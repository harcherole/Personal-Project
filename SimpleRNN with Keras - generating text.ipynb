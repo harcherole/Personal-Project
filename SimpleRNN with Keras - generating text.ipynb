{
 "cells": [
  {
   "cell_type": "markdown",
   "metadata": {},
   "source": [
    "## First we import the necessary modules"
   ]
  },
  {
   "cell_type": "code",
   "execution_count": 2,
   "metadata": {},
   "outputs": [],
   "source": [
    "from __future__ import print_function\n",
    "from keras.layers import Dense, Activation\n",
    "from keras.layers.recurrent import SimpleRNN\n",
    "from keras.models import Sequential\n",
    "from keras.utils.vis_utils import plot_model\n",
    "import numpy as np"
   ]
  },
  {
   "cell_type": "code",
   "execution_count": 3,
   "metadata": {},
   "outputs": [],
   "source": [
    "## We read our input text from the text of Alice in Wonderland on the Project Gutenberg website\n",
    "fin = open(\"Datasets/alice_in_wonderland.txt\", 'rb')\n",
    "lines = []\n",
    "for line in fin:\n",
    "    line = line.strip().lower()\n",
    "    line = line.decode(\"ascii\", \"ignore\")\n",
    "    if len(line) == 0:\n",
    "        continue\n",
    "    lines.append(line)\n",
    "fin.close()\n",
    "text = \" \".join(lines)"
   ]
  },
  {
   "cell_type": "code",
   "execution_count": 6,
   "metadata": {},
   "outputs": [],
   "source": [
    "## We create our label data\n",
    "chars = set([c for c in text])\n",
    "nb_chars = len(chars)\n",
    "char2index = dict((c, i) for i, c in enumerate(chars))\n",
    "index2char = dict((i, c) for i, c in enumerate(chars))"
   ]
  },
  {
   "cell_type": "code",
   "execution_count": 18,
   "metadata": {},
   "outputs": [],
   "source": [
    "SEQLEN = 10\n",
    "STEP = 1\n",
    "input_chars = []\n",
    "label_chars = []\n",
    "for i in range(0, len(text) - SEQLEN, STEP):\n",
    "    input_chars.append(text[i:i + SEQLEN])\n",
    "    label_chars.append(text[i + SEQLEN])"
   ]
  },
  {
   "cell_type": "markdown",
   "metadata": {},
   "source": [
    "## The next step is to vectorize these input and label texts"
   ]
  },
  {
   "cell_type": "code",
   "execution_count": 21,
   "metadata": {},
   "outputs": [],
   "source": [
    "X = np.zeros((len(input_chars), SEQLEN, nb_chars), dtype=np.bool)\n",
    "y = np.zeros((len(input_chars), nb_chars), dtype=np.bool)\n",
    "for i, input_char in enumerate(input_chars):\n",
    "    for j, ch in enumerate(input_char):\n",
    "        X[i, j, char2index[ch]] = 1\n",
    "    y[i, char2index[label_chars[i]]] = 1"
   ]
  },
  {
   "cell_type": "markdown",
   "metadata": {},
   "source": [
    "## We build our Model"
   ]
  },
  {
   "cell_type": "code",
   "execution_count": 26,
   "metadata": {},
   "outputs": [],
   "source": [
    "HIDDEN_SIZE = 128\n",
    "BATCH_SIZE = 128\n",
    "NUM_ITERATIONS = 25\n",
    "NUM_EPOCHS_PER_ITERATION = 1\n",
    "NUM_PREDS_PER_EPOCH = 100\n",
    "\n",
    "model = Sequential()\n",
    "model.add(SimpleRNN(HIDDEN_SIZE, return_sequences=False, \n",
    "                    input_shape=(SEQLEN, nb_chars), unroll=True))\n",
    "\n",
    "model.add(Dense(nb_chars))\n",
    "model.add(Activation(\"softmax\"))\n",
    "model.compile(loss=\"categorical_crossentropy\", optimizer=\"rmsprop\")"
   ]
  },
  {
   "cell_type": "code",
   "execution_count": 27,
   "metadata": {
    "scrolled": true
   },
   "outputs": [
    {
     "name": "stdout",
     "output_type": "stream",
     "text": [
      "==================================================\n",
      "Iteration #: 0\n",
      "Epoch 1/1\n",
      "158773/158773 [==============================] - 15s 97us/step - loss: 2.3371\n",
      "Generating from seed: arch hare \n",
      "arch hare the dout the gat in and the was in and the was in and the was in and the was in and the was in and t==================================================\n",
      "Iteration #: 1\n",
      "Epoch 1/1\n",
      "158773/158773 [==============================] - 14s 91us/step - loss: 2.0504\n",
      "Generating from seed: ork is dis\n",
      "ork is dis the grepered the wint of the wint of the wint of the wint of the wint of the wint of the wint of th==================================================\n",
      "Iteration #: 2\n",
      "Epoch 1/1\n",
      "158773/158773 [==============================] - 15s 92us/step - loss: 1.9453\n",
      "Generating from seed: ad come ba\n",
      "ad come bat it ald the souse the souse the souse the souse the souse the souse the souse the souse the souse t==================================================\n",
      "Iteration #: 3\n",
      "Epoch 1/1\n",
      "158773/158773 [==============================] - 14s 91us/step - loss: 1.8629\n",
      "Generating from seed: ble. it do\n",
      "ble. it dof chat it the could the mant rome the mant rome the mant rome the mant rome the mant rome the mant r==================================================\n",
      "Iteration #: 4\n",
      "Epoch 1/1\n",
      "158773/158773 [==============================] - 15s 92us/step - loss: 1.7961\n",
      "Generating from seed: and some u\n",
      "and some under the with the was the with the was the with the was the with the was the with the was the with t==================================================\n",
      "Iteration #: 5\n",
      "Epoch 1/1\n",
      "158773/158773 [==============================] - 15s 94us/step - loss: 1.7397\n",
      "Generating from seed: ad that do\n",
      "ad that dore the rabbit with a look a mone be the said the mock turtle the ore the said the mock turtle the or==================================================\n",
      "Iteration #: 6\n",
      "Epoch 1/1\n",
      "158773/158773 [==============================] - 15s 92us/step - loss: 1.6927\n",
      "Generating from seed: ! i wish y\n",
      "! i wish you could the could alice to the coust of the could alice to the coust of the could alice to the cous==================================================\n",
      "Iteration #: 7\n",
      "Epoch 1/1\n",
      "158773/158773 [==============================] - 15s 92us/step - loss: 1.6535\n",
      "Generating from seed:  turtle to\n",
      " turtle to said alice as the rabbit was in a little there was a little there was a little there was a little t==================================================\n",
      "Iteration #: 8\n",
      "Epoch 1/1\n",
      "158773/158773 [==============================] - 15s 95us/step - loss: 1.6208\n",
      "Generating from seed: : before s\n",
      ": before she was the was in the was in the was in the was in the was in the was in the was in the was in the w==================================================\n",
      "Iteration #: 9\n",
      "Epoch 1/1\n",
      "158773/158773 [==============================] - 16s 102us/step - loss: 1.5930\n",
      "Generating from seed: he set to \n",
      "he set to the king to the court the mouse to the dormouse to the dormouse to the dormouse to the dormouse to t==================================================\n",
      "Iteration #: 10\n",
      "Epoch 1/1\n",
      "158773/158773 [==============================] - 20s 127us/step - loss: 1.5681\n",
      "Generating from seed: and the wo\n",
      "and the works at the could not at the rottle to ser her down the white rabbit while the rabbit while the rabbi==================================================\n",
      "Iteration #: 11\n",
      "Epoch 1/1\n",
      "158773/158773 [==============================] - 19s 117us/step - loss: 1.5478\n",
      "Generating from seed: f making a\n",
      "f making and she was a little sard alice as the courted to the groped and alice as the courted to the groped a==================================================\n",
      "Iteration #: 12\n",
      "Epoch 1/1\n",
      "158773/158773 [==============================] - 19s 119us/step - loss: 1.5281\n",
      "Generating from seed: t. it was \n",
      "t. it was the rabbit with a courting of the said the mock turtle said the mock turtle said the mock turtle sai==================================================\n",
      "Iteration #: 13\n",
      "Epoch 1/1\n",
      "158773/158773 [==============================] - 19s 120us/step - loss: 1.5113\n",
      "Generating from seed: said alice\n",
      "said alice, and she said the mock turtle sard to herself and she said the mock turtle sard to herself and she ==================================================\n",
      "Iteration #: 14\n",
      "Epoch 1/1\n",
      "158773/158773 [==============================] - 19s 120us/step - loss: 1.4964\n",
      "Generating from seed:  me see--h\n",
      " me see--how it was she was some of the gryphon as she was some of the gryphon as she was some of the gryphon ==================================================\n",
      "Iteration #: 15\n",
      "Epoch 1/1\n",
      "158773/158773 [==============================] - 20s 129us/step - loss: 1.4819\n",
      "Generating from seed: and just a\n",
      "and just as the foundation of the shated to see it was a little sere to the door cat in a long to see it was a==================================================\n",
      "Iteration #: 16\n",
      "Epoch 1/1\n",
      "158773/158773 [==============================] - 20s 123us/step - loss: 1.4704\n",
      "Generating from seed: urning int\n",
      "urning into the words the hatter the caterpillar was a little shister at he said alice, and the mouse the hatt==================================================\n",
      "Iteration #: 17\n",
      "Epoch 1/1\n",
      "158773/158773 [==============================] - 19s 117us/step - loss: 1.4588\n",
      "Generating from seed: why you ar\n",
      "why you are all was she was a little thing a mouse the mouse the mouse the mouse the mouse the mouse the mouse==================================================\n",
      "Iteration #: 18\n",
      "Epoch 1/1\n",
      "158773/158773 [==============================] - 19s 120us/step - loss: 1.4482\n",
      "Generating from seed: gutenberg-\n",
      "gutenberg-tm electronic works in a look at the white rabbit whither last the looked at the thee they was so th==================================================\n",
      "Iteration #: 19\n",
      "Epoch 1/1\n",
      "158773/158773 [==============================] - 19s 117us/step - loss: 1.4383\n",
      "Generating from seed: umbly: you\n",
      "umbly: you could the mouse the oull sound of the words like the cat alice can the way all the rabbit while the==================================================\n",
      "Iteration #: 20\n",
      "Epoch 1/1\n",
      "158773/158773 [==============================] - 19s 120us/step - loss: 1.4292\n",
      "Generating from seed: early as s\n",
      "early as she was a large done the elf, said the mock turtle she was the mouse, with a little shang to see it t==================================================\n",
      "Iteration #: 21\n",
      "Epoch 1/1\n",
      "158773/158773 [==============================] - 19s 118us/step - loss: 1.4214\n",
      "Generating from seed:  *    *   \n",
      " *    *    *    *    *    *    *    *    *    *    *    *    *    *    *    *    *    *    *    *    *    *   ==================================================\n",
      "Iteration #: 22\n",
      "Epoch 1/1\n",
      "158773/158773 [==============================] - 18s 116us/step - loss: 1.4142\n",
      "Generating from seed: y; and eve\n",
      "y; and ever have the door, and the mock turtle soing a cant last of course of the door of the project gutenber==================================================\n",
      "Iteration #: 23\n",
      "Epoch 1/1\n",
      "158773/158773 [==============================] - 19s 119us/step - loss: 1.4063\n",
      "Generating from seed: ers, --mys\n",
      "ers, --myst cats in the engurting the elfored to the dormouse in the dormouse in the dormouse in the dormouse ==================================================\n",
      "Iteration #: 24\n",
      "Epoch 1/1\n",
      "158773/158773 [==============================] - 18s 116us/step - loss: 1.3995\n",
      "Generating from seed:  of a good\n",
      " of a good a canch way the rabbit with a trees to be a change that it was the mock turtle was not to be now it\n"
     ]
    }
   ],
   "source": [
    "for iteration in range(NUM_ITERATIONS):\n",
    "    print(\"=\" * 50)\n",
    "    print(\"Iteration #: %d\" % (iteration))\n",
    "    model.fit(X, y, batch_size=BATCH_SIZE, epochs=NUM_EPOCHS_PER_ITERATION)\n",
    "    test_idx = np.random.randint(len(input_chars))\n",
    "    test_chars = input_chars[test_idx]\n",
    "    print(\"Generating from seed: %s\" % (test_chars))\n",
    "    print(test_chars, end=\"\")\n",
    "    for i in range(NUM_PREDS_PER_EPOCH):\n",
    "        Xtest = np.zeros((1, SEQLEN, nb_chars))\n",
    "        for i, ch in enumerate(test_chars):\n",
    "            Xtest[0, i, char2index[ch]] = 1\n",
    "        pred = model.predict(Xtest, verbose=0)[0]\n",
    "        ypred = index2char[np.argmax(pred)]\n",
    "        print(ypred, end=\"\")\n",
    "        # move forward with test_chars + ypred\n",
    "        test_chars = test_chars[1:] + ypred\n",
    "print()"
   ]
  }
 ],
 "metadata": {
  "kernelspec": {
   "display_name": "Python 3",
   "language": "python",
   "name": "python3"
  },
  "language_info": {
   "codemirror_mode": {
    "name": "ipython",
    "version": 3
   },
   "file_extension": ".py",
   "mimetype": "text/x-python",
   "name": "python",
   "nbconvert_exporter": "python",
   "pygments_lexer": "ipython3",
   "version": "3.6.8"
  }
 },
 "nbformat": 4,
 "nbformat_minor": 2
}
