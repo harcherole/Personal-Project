{
 "cells": [
  {
   "cell_type": "markdown",
   "metadata": {},
   "source": [
    "# 1- Titanic Data"
   ]
  },
  {
   "cell_type": "markdown",
   "metadata": {},
   "source": [
    "## Import all libraries ###"
   ]
  },
  {
   "cell_type": "code",
   "execution_count": 1,
   "metadata": {},
   "outputs": [
    {
     "name": "stderr",
     "output_type": "stream",
     "text": [
      "C:\\Users\\Georf\\Anaconda3\\envs\\tensorflow\\lib\\site-packages\\sklearn\\ensemble\\weight_boosting.py:29: DeprecationWarning: numpy.core.umath_tests is an internal NumPy module and should not be imported. It will be removed in a future NumPy release.\n",
      "  from numpy.core.umath_tests import inner1d\n"
     ]
    }
   ],
   "source": [
    "import pandas as pd\n",
    "import numpy as np\n",
    "from sklearn.ensemble import RandomForestRegressor\n",
    "## The error metric. In this case, we will use c-stat (aka ROC/AUC)\n",
    "from sklearn.metrics import roc_auc_score\n",
    "from IPython.display import display,HTML\n",
    "%matplotlib inline"
   ]
  },
  {
   "cell_type": "markdown",
   "metadata": {},
   "source": [
    "## Import Titanic Data"
   ]
  },
  {
   "cell_type": "code",
   "execution_count": 5,
   "metadata": {
    "collapsed": true
   },
   "outputs": [],
   "source": [
    "X = pd.read_csv(\"data/train.csv\", sep=\",\")\n",
    "## pop will estract a specific column (Survived)\n",
    "y = X.pop(\"Survived\") ## This is the column i want to predict"
   ]
  },
  {
   "cell_type": "code",
   "execution_count": 10,
   "metadata": {},
   "outputs": [
    {
     "data": {
      "text/html": [
       "<div>\n",
       "<style>\n",
       "    .dataframe thead tr:only-child th {\n",
       "        text-align: right;\n",
       "    }\n",
       "\n",
       "    .dataframe thead th {\n",
       "        text-align: left;\n",
       "    }\n",
       "\n",
       "    .dataframe tbody tr th {\n",
       "        vertical-align: top;\n",
       "    }\n",
       "</style>\n",
       "<table border=\"1\" class=\"dataframe\">\n",
       "  <thead>\n",
       "    <tr style=\"text-align: right;\">\n",
       "      <th></th>\n",
       "      <th>PassengerId</th>\n",
       "      <th>Pclass</th>\n",
       "      <th>Age</th>\n",
       "      <th>SibSp</th>\n",
       "      <th>Parch</th>\n",
       "      <th>Fare</th>\n",
       "    </tr>\n",
       "  </thead>\n",
       "  <tbody>\n",
       "    <tr>\n",
       "      <th>count</th>\n",
       "      <td>891.000000</td>\n",
       "      <td>891.000000</td>\n",
       "      <td>891.000000</td>\n",
       "      <td>891.000000</td>\n",
       "      <td>891.000000</td>\n",
       "      <td>891.000000</td>\n",
       "    </tr>\n",
       "    <tr>\n",
       "      <th>mean</th>\n",
       "      <td>446.000000</td>\n",
       "      <td>2.308642</td>\n",
       "      <td>29.699118</td>\n",
       "      <td>0.523008</td>\n",
       "      <td>0.381594</td>\n",
       "      <td>32.204208</td>\n",
       "    </tr>\n",
       "    <tr>\n",
       "      <th>std</th>\n",
       "      <td>257.353842</td>\n",
       "      <td>0.836071</td>\n",
       "      <td>13.002015</td>\n",
       "      <td>1.102743</td>\n",
       "      <td>0.806057</td>\n",
       "      <td>49.693429</td>\n",
       "    </tr>\n",
       "    <tr>\n",
       "      <th>min</th>\n",
       "      <td>1.000000</td>\n",
       "      <td>1.000000</td>\n",
       "      <td>0.420000</td>\n",
       "      <td>0.000000</td>\n",
       "      <td>0.000000</td>\n",
       "      <td>0.000000</td>\n",
       "    </tr>\n",
       "    <tr>\n",
       "      <th>25%</th>\n",
       "      <td>223.500000</td>\n",
       "      <td>2.000000</td>\n",
       "      <td>22.000000</td>\n",
       "      <td>0.000000</td>\n",
       "      <td>0.000000</td>\n",
       "      <td>7.910400</td>\n",
       "    </tr>\n",
       "    <tr>\n",
       "      <th>50%</th>\n",
       "      <td>446.000000</td>\n",
       "      <td>3.000000</td>\n",
       "      <td>29.699118</td>\n",
       "      <td>0.000000</td>\n",
       "      <td>0.000000</td>\n",
       "      <td>14.454200</td>\n",
       "    </tr>\n",
       "    <tr>\n",
       "      <th>75%</th>\n",
       "      <td>668.500000</td>\n",
       "      <td>3.000000</td>\n",
       "      <td>35.000000</td>\n",
       "      <td>1.000000</td>\n",
       "      <td>0.000000</td>\n",
       "      <td>31.000000</td>\n",
       "    </tr>\n",
       "    <tr>\n",
       "      <th>max</th>\n",
       "      <td>891.000000</td>\n",
       "      <td>3.000000</td>\n",
       "      <td>80.000000</td>\n",
       "      <td>8.000000</td>\n",
       "      <td>6.000000</td>\n",
       "      <td>512.329200</td>\n",
       "    </tr>\n",
       "  </tbody>\n",
       "</table>\n",
       "</div>"
      ],
      "text/plain": [
       "       PassengerId      Pclass         Age       SibSp       Parch        Fare\n",
       "count   891.000000  891.000000  891.000000  891.000000  891.000000  891.000000\n",
       "mean    446.000000    2.308642   29.699118    0.523008    0.381594   32.204208\n",
       "std     257.353842    0.836071   13.002015    1.102743    0.806057   49.693429\n",
       "min       1.000000    1.000000    0.420000    0.000000    0.000000    0.000000\n",
       "25%     223.500000    2.000000   22.000000    0.000000    0.000000    7.910400\n",
       "50%     446.000000    3.000000   29.699118    0.000000    0.000000   14.454200\n",
       "75%     668.500000    3.000000   35.000000    1.000000    0.000000   31.000000\n",
       "max     891.000000    3.000000   80.000000    8.000000    6.000000  512.329200"
      ]
     },
     "execution_count": 10,
     "metadata": {},
     "output_type": "execute_result"
    }
   ],
   "source": [
    "## Fill missing value with mean\n",
    "X[\"Age\"].fillna(X.Age.mean(), inplace = True)\n",
    "## Check if the script is correct\n",
    "X.describe()"
   ]
  },
  {
   "cell_type": "markdown",
   "metadata": {},
   "source": [
    "## 1- In this first part, we'll work only with numeric variables"
   ]
  },
  {
   "cell_type": "code",
   "execution_count": 11,
   "metadata": {},
   "outputs": [
    {
     "data": {
      "text/html": [
       "<div>\n",
       "<style>\n",
       "    .dataframe thead tr:only-child th {\n",
       "        text-align: right;\n",
       "    }\n",
       "\n",
       "    .dataframe thead th {\n",
       "        text-align: left;\n",
       "    }\n",
       "\n",
       "    .dataframe tbody tr th {\n",
       "        vertical-align: top;\n",
       "    }\n",
       "</style>\n",
       "<table border=\"1\" class=\"dataframe\">\n",
       "  <thead>\n",
       "    <tr style=\"text-align: right;\">\n",
       "      <th></th>\n",
       "      <th>PassengerId</th>\n",
       "      <th>Pclass</th>\n",
       "      <th>Age</th>\n",
       "      <th>SibSp</th>\n",
       "      <th>Parch</th>\n",
       "      <th>Fare</th>\n",
       "    </tr>\n",
       "  </thead>\n",
       "  <tbody>\n",
       "    <tr>\n",
       "      <th>0</th>\n",
       "      <td>1</td>\n",
       "      <td>3</td>\n",
       "      <td>22.0</td>\n",
       "      <td>1</td>\n",
       "      <td>0</td>\n",
       "      <td>7.2500</td>\n",
       "    </tr>\n",
       "    <tr>\n",
       "      <th>1</th>\n",
       "      <td>2</td>\n",
       "      <td>1</td>\n",
       "      <td>38.0</td>\n",
       "      <td>1</td>\n",
       "      <td>0</td>\n",
       "      <td>71.2833</td>\n",
       "    </tr>\n",
       "    <tr>\n",
       "      <th>2</th>\n",
       "      <td>3</td>\n",
       "      <td>3</td>\n",
       "      <td>26.0</td>\n",
       "      <td>0</td>\n",
       "      <td>0</td>\n",
       "      <td>7.9250</td>\n",
       "    </tr>\n",
       "    <tr>\n",
       "      <th>3</th>\n",
       "      <td>4</td>\n",
       "      <td>1</td>\n",
       "      <td>35.0</td>\n",
       "      <td>1</td>\n",
       "      <td>0</td>\n",
       "      <td>53.1000</td>\n",
       "    </tr>\n",
       "    <tr>\n",
       "      <th>4</th>\n",
       "      <td>5</td>\n",
       "      <td>3</td>\n",
       "      <td>35.0</td>\n",
       "      <td>0</td>\n",
       "      <td>0</td>\n",
       "      <td>8.0500</td>\n",
       "    </tr>\n",
       "  </tbody>\n",
       "</table>\n",
       "</div>"
      ],
      "text/plain": [
       "   PassengerId  Pclass   Age  SibSp  Parch     Fare\n",
       "0            1       3  22.0      1      0   7.2500\n",
       "1            2       1  38.0      1      0  71.2833\n",
       "2            3       3  26.0      0      0   7.9250\n",
       "3            4       1  35.0      1      0  53.1000\n",
       "4            5       3  35.0      0      0   8.0500"
      ]
     },
     "execution_count": 11,
     "metadata": {},
     "output_type": "execute_result"
    }
   ],
   "source": [
    "## Get just the numeric variables by selecting only the variables that are not \"object\" datatypes.\n",
    "numeric_variables = list(X.dtypes[X.dtypes != \"object\"].index)\n",
    "X[numeric_variables].head()"
   ]
  },
  {
   "cell_type": "code",
   "execution_count": 12,
   "metadata": {},
   "outputs": [
    {
     "data": {
      "text/plain": [
       "RandomForestRegressor(bootstrap=True, criterion='mse', max_depth=None,\n",
       "           max_features='auto', max_leaf_nodes=None,\n",
       "           min_impurity_decrease=0.0, min_impurity_split=None,\n",
       "           min_samples_leaf=1, min_samples_split=2,\n",
       "           min_weight_fraction_leaf=0.0, n_estimators=100, n_jobs=1,\n",
       "           oob_score=True, random_state=42, verbose=0, warm_start=False)"
      ]
     },
     "execution_count": 12,
     "metadata": {},
     "output_type": "execute_result"
    }
   ],
   "source": [
    "## Fit our model using RandomForestRegressor\n",
    "model = RandomForestRegressor(n_estimators=100, oob_score=True, random_state=42)\n",
    "\n",
    "## Use only numeric variables\n",
    "model.fit(X[numeric_variables], y)"
   ]
  },
  {
   "cell_type": "code",
   "execution_count": 13,
   "metadata": {},
   "outputs": [
    {
     "data": {
      "text/plain": [
       "0.1361695005913669"
      ]
     },
     "execution_count": 13,
     "metadata": {},
     "output_type": "execute_result"
    }
   ],
   "source": [
    "## Out-Of-Bag error (OOB) mesure a prediction error of Random Forest\n",
    "model.oob_score_"
   ]
  },
  {
   "cell_type": "markdown",
   "metadata": {},
   "source": [
    "## Now we calculate the c-stat value"
   ]
  },
  {
   "cell_type": "code",
   "execution_count": 14,
   "metadata": {},
   "outputs": [
    {
     "name": "stdout",
     "output_type": "stream",
     "text": [
      "c-stat : 0.7399551550399983\n"
     ]
    }
   ],
   "source": [
    "y_oob = model.oob_prediction_\n",
    "print(\"c-stat :\", roc_auc_score(y, y_oob))"
   ]
  },
  {
   "cell_type": "markdown",
   "metadata": {},
   "source": [
    "## 2- In this part, we'll work only with categoricals variables"
   ]
  },
  {
   "cell_type": "code",
   "execution_count": 16,
   "metadata": {
    "collapsed": true
   },
   "outputs": [],
   "source": [
    "## Here is a simple function to show descriptive stats on the categorical variables\n",
    "def describe_categorical(dataframe):\n",
    "    \"\"\"\n",
    "    Juts like .describe(), but returns the results for\n",
    "    categorical variables only.\n",
    "    \"\"\"\n",
    "    display(HTML(dataframe[dataframe.columns[dataframe.dtypes == \"object\"]].describe().to_html()))"
   ]
  },
  {
   "cell_type": "code",
   "execution_count": 17,
   "metadata": {},
   "outputs": [
    {
     "data": {
      "text/html": [
       "<table border=\"1\" class=\"dataframe\">\n",
       "  <thead>\n",
       "    <tr style=\"text-align: right;\">\n",
       "      <th></th>\n",
       "      <th>Name</th>\n",
       "      <th>Sex</th>\n",
       "      <th>Ticket</th>\n",
       "      <th>Cabin</th>\n",
       "      <th>Embarked</th>\n",
       "    </tr>\n",
       "  </thead>\n",
       "  <tbody>\n",
       "    <tr>\n",
       "      <th>count</th>\n",
       "      <td>891</td>\n",
       "      <td>891</td>\n",
       "      <td>891</td>\n",
       "      <td>204</td>\n",
       "      <td>889</td>\n",
       "    </tr>\n",
       "    <tr>\n",
       "      <th>unique</th>\n",
       "      <td>891</td>\n",
       "      <td>2</td>\n",
       "      <td>681</td>\n",
       "      <td>147</td>\n",
       "      <td>3</td>\n",
       "    </tr>\n",
       "    <tr>\n",
       "      <th>top</th>\n",
       "      <td>Newsom, Miss. Helen Monypeny</td>\n",
       "      <td>male</td>\n",
       "      <td>1601</td>\n",
       "      <td>B96 B98</td>\n",
       "      <td>S</td>\n",
       "    </tr>\n",
       "    <tr>\n",
       "      <th>freq</th>\n",
       "      <td>1</td>\n",
       "      <td>577</td>\n",
       "      <td>7</td>\n",
       "      <td>4</td>\n",
       "      <td>644</td>\n",
       "    </tr>\n",
       "  </tbody>\n",
       "</table>"
      ],
      "text/plain": [
       "<IPython.core.display.HTML object>"
      ]
     },
     "metadata": {},
     "output_type": "display_data"
    }
   ],
   "source": [
    "describe_categorical(X)"
   ]
  },
  {
   "cell_type": "code",
   "execution_count": 18,
   "metadata": {
    "collapsed": true
   },
   "outputs": [],
   "source": [
    "## Drop the variables I don't feel like dealing\n",
    "X.drop([\"Name\", \"Ticket\", \"PassengerId\"], axis=1, inplace=True)"
   ]
  },
  {
   "cell_type": "code",
   "execution_count": 19,
   "metadata": {
    "collapsed": true
   },
   "outputs": [],
   "source": [
    "## Change the Cabin variable to be only the first letter or None\n",
    "def clean_cabine(x):\n",
    "    try:\n",
    "        return x[0]\n",
    "    except TypeError:\n",
    "        return \"None\"\n",
    "    \n",
    "## Put the column value into function    \n",
    "X[\"Cabin\"] = X.Cabin.apply(clean_cabine)"
   ]
  },
  {
   "cell_type": "code",
   "execution_count": 20,
   "metadata": {},
   "outputs": [
    {
     "data": {
      "text/html": [
       "<div>\n",
       "<style>\n",
       "    .dataframe thead tr:only-child th {\n",
       "        text-align: right;\n",
       "    }\n",
       "\n",
       "    .dataframe thead th {\n",
       "        text-align: left;\n",
       "    }\n",
       "\n",
       "    .dataframe tbody tr th {\n",
       "        vertical-align: top;\n",
       "    }\n",
       "</style>\n",
       "<table border=\"1\" class=\"dataframe\">\n",
       "  <thead>\n",
       "    <tr style=\"text-align: right;\">\n",
       "      <th></th>\n",
       "      <th>Pclass</th>\n",
       "      <th>Sex</th>\n",
       "      <th>Age</th>\n",
       "      <th>SibSp</th>\n",
       "      <th>Parch</th>\n",
       "      <th>Fare</th>\n",
       "      <th>Cabin</th>\n",
       "      <th>Embarked</th>\n",
       "    </tr>\n",
       "  </thead>\n",
       "  <tbody>\n",
       "    <tr>\n",
       "      <th>0</th>\n",
       "      <td>3</td>\n",
       "      <td>male</td>\n",
       "      <td>22.0</td>\n",
       "      <td>1</td>\n",
       "      <td>0</td>\n",
       "      <td>7.2500</td>\n",
       "      <td>None</td>\n",
       "      <td>S</td>\n",
       "    </tr>\n",
       "    <tr>\n",
       "      <th>1</th>\n",
       "      <td>1</td>\n",
       "      <td>female</td>\n",
       "      <td>38.0</td>\n",
       "      <td>1</td>\n",
       "      <td>0</td>\n",
       "      <td>71.2833</td>\n",
       "      <td>C</td>\n",
       "      <td>C</td>\n",
       "    </tr>\n",
       "    <tr>\n",
       "      <th>2</th>\n",
       "      <td>3</td>\n",
       "      <td>female</td>\n",
       "      <td>26.0</td>\n",
       "      <td>0</td>\n",
       "      <td>0</td>\n",
       "      <td>7.9250</td>\n",
       "      <td>None</td>\n",
       "      <td>S</td>\n",
       "    </tr>\n",
       "    <tr>\n",
       "      <th>3</th>\n",
       "      <td>1</td>\n",
       "      <td>female</td>\n",
       "      <td>35.0</td>\n",
       "      <td>1</td>\n",
       "      <td>0</td>\n",
       "      <td>53.1000</td>\n",
       "      <td>C</td>\n",
       "      <td>S</td>\n",
       "    </tr>\n",
       "    <tr>\n",
       "      <th>4</th>\n",
       "      <td>3</td>\n",
       "      <td>male</td>\n",
       "      <td>35.0</td>\n",
       "      <td>0</td>\n",
       "      <td>0</td>\n",
       "      <td>8.0500</td>\n",
       "      <td>None</td>\n",
       "      <td>S</td>\n",
       "    </tr>\n",
       "  </tbody>\n",
       "</table>\n",
       "</div>"
      ],
      "text/plain": [
       "   Pclass     Sex   Age  SibSp  Parch     Fare Cabin Embarked\n",
       "0       3    male  22.0      1      0   7.2500  None        S\n",
       "1       1  female  38.0      1      0  71.2833     C        C\n",
       "2       3  female  26.0      0      0   7.9250  None        S\n",
       "3       1  female  35.0      1      0  53.1000     C        S\n",
       "4       3    male  35.0      0      0   8.0500  None        S"
      ]
     },
     "execution_count": 20,
     "metadata": {},
     "output_type": "execute_result"
    }
   ],
   "source": [
    "X.head()"
   ]
  },
  {
   "cell_type": "markdown",
   "metadata": {},
   "source": [
    "## One-Hot-Encoding with categorical variables"
   ]
  },
  {
   "cell_type": "code",
   "execution_count": 29,
   "metadata": {},
   "outputs": [],
   "source": [
    "categorical_variables = [\"Sex\", \"Cabin\", \"Embarked\"]\n",
    "\n",
    "for variable in categorical_variables:\n",
    "    ## Fill missing data with the word \"Missing\"\n",
    "    X[variable].fillna(\"Missing\", inplace = True)\n",
    "    ## Create array of dummies\n",
    "    dummies = pd.get_dummies(X[variable], prefix = variable)\n",
    "    ## Update X to include dummies and drop the main variable\n",
    "    frame = [X, dummies]\n",
    "    X = pd.concat(frame, axis=1)\n",
    "    X.drop([variable], axis=1, inplace= True)"
   ]
  },
  {
   "cell_type": "code",
   "execution_count": 32,
   "metadata": {
    "scrolled": true
   },
   "outputs": [
    {
     "data": {
      "text/html": [
       "<table border=\"1\" class=\"dataframe\">\n",
       "  <thead>\n",
       "    <tr style=\"text-align: right;\">\n",
       "      <th></th>\n",
       "      <th>Pclass</th>\n",
       "      <th>Age</th>\n",
       "      <th>SibSp</th>\n",
       "      <th>Parch</th>\n",
       "      <th>Fare</th>\n",
       "      <th>Sex_female</th>\n",
       "      <th>Sex_male</th>\n",
       "      <th>Cabin_A</th>\n",
       "      <th>Cabin_B</th>\n",
       "      <th>Cabin_C</th>\n",
       "      <th>Cabin_D</th>\n",
       "      <th>Cabin_E</th>\n",
       "      <th>Cabin_F</th>\n",
       "      <th>Cabin_G</th>\n",
       "      <th>Cabin_None</th>\n",
       "      <th>Cabin_T</th>\n",
       "      <th>Embarked_C</th>\n",
       "      <th>Embarked_Missing</th>\n",
       "      <th>Embarked_Q</th>\n",
       "      <th>Embarked_S</th>\n",
       "    </tr>\n",
       "  </thead>\n",
       "  <tbody>\n",
       "    <tr>\n",
       "      <th>0</th>\n",
       "      <td>3</td>\n",
       "      <td>22.000000</td>\n",
       "      <td>1</td>\n",
       "      <td>0</td>\n",
       "      <td>7.2500</td>\n",
       "      <td>0</td>\n",
       "      <td>1</td>\n",
       "      <td>0</td>\n",
       "      <td>0</td>\n",
       "      <td>0</td>\n",
       "      <td>0</td>\n",
       "      <td>0</td>\n",
       "      <td>0</td>\n",
       "      <td>0</td>\n",
       "      <td>1</td>\n",
       "      <td>0</td>\n",
       "      <td>0</td>\n",
       "      <td>0</td>\n",
       "      <td>0</td>\n",
       "      <td>1</td>\n",
       "    </tr>\n",
       "    <tr>\n",
       "      <th>1</th>\n",
       "      <td>1</td>\n",
       "      <td>38.000000</td>\n",
       "      <td>1</td>\n",
       "      <td>0</td>\n",
       "      <td>71.2833</td>\n",
       "      <td>1</td>\n",
       "      <td>0</td>\n",
       "      <td>0</td>\n",
       "      <td>0</td>\n",
       "      <td>1</td>\n",
       "      <td>0</td>\n",
       "      <td>0</td>\n",
       "      <td>0</td>\n",
       "      <td>0</td>\n",
       "      <td>0</td>\n",
       "      <td>0</td>\n",
       "      <td>1</td>\n",
       "      <td>0</td>\n",
       "      <td>0</td>\n",
       "      <td>0</td>\n",
       "    </tr>\n",
       "    <tr>\n",
       "      <th>2</th>\n",
       "      <td>3</td>\n",
       "      <td>26.000000</td>\n",
       "      <td>0</td>\n",
       "      <td>0</td>\n",
       "      <td>7.9250</td>\n",
       "      <td>1</td>\n",
       "      <td>0</td>\n",
       "      <td>0</td>\n",
       "      <td>0</td>\n",
       "      <td>0</td>\n",
       "      <td>0</td>\n",
       "      <td>0</td>\n",
       "      <td>0</td>\n",
       "      <td>0</td>\n",
       "      <td>1</td>\n",
       "      <td>0</td>\n",
       "      <td>0</td>\n",
       "      <td>0</td>\n",
       "      <td>0</td>\n",
       "      <td>1</td>\n",
       "    </tr>\n",
       "    <tr>\n",
       "      <th>3</th>\n",
       "      <td>1</td>\n",
       "      <td>35.000000</td>\n",
       "      <td>1</td>\n",
       "      <td>0</td>\n",
       "      <td>53.1000</td>\n",
       "      <td>1</td>\n",
       "      <td>0</td>\n",
       "      <td>0</td>\n",
       "      <td>0</td>\n",
       "      <td>1</td>\n",
       "      <td>0</td>\n",
       "      <td>0</td>\n",
       "      <td>0</td>\n",
       "      <td>0</td>\n",
       "      <td>0</td>\n",
       "      <td>0</td>\n",
       "      <td>0</td>\n",
       "      <td>0</td>\n",
       "      <td>0</td>\n",
       "      <td>1</td>\n",
       "    </tr>\n",
       "    <tr>\n",
       "      <th>4</th>\n",
       "      <td>3</td>\n",
       "      <td>35.000000</td>\n",
       "      <td>0</td>\n",
       "      <td>0</td>\n",
       "      <td>8.0500</td>\n",
       "      <td>0</td>\n",
       "      <td>1</td>\n",
       "      <td>0</td>\n",
       "      <td>0</td>\n",
       "      <td>0</td>\n",
       "      <td>0</td>\n",
       "      <td>0</td>\n",
       "      <td>0</td>\n",
       "      <td>0</td>\n",
       "      <td>1</td>\n",
       "      <td>0</td>\n",
       "      <td>0</td>\n",
       "      <td>0</td>\n",
       "      <td>0</td>\n",
       "      <td>1</td>\n",
       "    </tr>\n",
       "    <tr>\n",
       "      <th>...</th>\n",
       "      <td>...</td>\n",
       "      <td>...</td>\n",
       "      <td>...</td>\n",
       "      <td>...</td>\n",
       "      <td>...</td>\n",
       "      <td>...</td>\n",
       "      <td>...</td>\n",
       "      <td>...</td>\n",
       "      <td>...</td>\n",
       "      <td>...</td>\n",
       "      <td>...</td>\n",
       "      <td>...</td>\n",
       "      <td>...</td>\n",
       "      <td>...</td>\n",
       "      <td>...</td>\n",
       "      <td>...</td>\n",
       "      <td>...</td>\n",
       "      <td>...</td>\n",
       "      <td>...</td>\n",
       "      <td>...</td>\n",
       "    </tr>\n",
       "    <tr>\n",
       "      <th>886</th>\n",
       "      <td>2</td>\n",
       "      <td>27.000000</td>\n",
       "      <td>0</td>\n",
       "      <td>0</td>\n",
       "      <td>13.0000</td>\n",
       "      <td>0</td>\n",
       "      <td>1</td>\n",
       "      <td>0</td>\n",
       "      <td>0</td>\n",
       "      <td>0</td>\n",
       "      <td>0</td>\n",
       "      <td>0</td>\n",
       "      <td>0</td>\n",
       "      <td>0</td>\n",
       "      <td>1</td>\n",
       "      <td>0</td>\n",
       "      <td>0</td>\n",
       "      <td>0</td>\n",
       "      <td>0</td>\n",
       "      <td>1</td>\n",
       "    </tr>\n",
       "    <tr>\n",
       "      <th>887</th>\n",
       "      <td>1</td>\n",
       "      <td>19.000000</td>\n",
       "      <td>0</td>\n",
       "      <td>0</td>\n",
       "      <td>30.0000</td>\n",
       "      <td>1</td>\n",
       "      <td>0</td>\n",
       "      <td>0</td>\n",
       "      <td>1</td>\n",
       "      <td>0</td>\n",
       "      <td>0</td>\n",
       "      <td>0</td>\n",
       "      <td>0</td>\n",
       "      <td>0</td>\n",
       "      <td>0</td>\n",
       "      <td>0</td>\n",
       "      <td>0</td>\n",
       "      <td>0</td>\n",
       "      <td>0</td>\n",
       "      <td>1</td>\n",
       "    </tr>\n",
       "    <tr>\n",
       "      <th>888</th>\n",
       "      <td>3</td>\n",
       "      <td>29.699118</td>\n",
       "      <td>1</td>\n",
       "      <td>2</td>\n",
       "      <td>23.4500</td>\n",
       "      <td>1</td>\n",
       "      <td>0</td>\n",
       "      <td>0</td>\n",
       "      <td>0</td>\n",
       "      <td>0</td>\n",
       "      <td>0</td>\n",
       "      <td>0</td>\n",
       "      <td>0</td>\n",
       "      <td>0</td>\n",
       "      <td>1</td>\n",
       "      <td>0</td>\n",
       "      <td>0</td>\n",
       "      <td>0</td>\n",
       "      <td>0</td>\n",
       "      <td>1</td>\n",
       "    </tr>\n",
       "    <tr>\n",
       "      <th>889</th>\n",
       "      <td>1</td>\n",
       "      <td>26.000000</td>\n",
       "      <td>0</td>\n",
       "      <td>0</td>\n",
       "      <td>30.0000</td>\n",
       "      <td>0</td>\n",
       "      <td>1</td>\n",
       "      <td>0</td>\n",
       "      <td>0</td>\n",
       "      <td>1</td>\n",
       "      <td>0</td>\n",
       "      <td>0</td>\n",
       "      <td>0</td>\n",
       "      <td>0</td>\n",
       "      <td>0</td>\n",
       "      <td>0</td>\n",
       "      <td>1</td>\n",
       "      <td>0</td>\n",
       "      <td>0</td>\n",
       "      <td>0</td>\n",
       "    </tr>\n",
       "    <tr>\n",
       "      <th>890</th>\n",
       "      <td>3</td>\n",
       "      <td>32.000000</td>\n",
       "      <td>0</td>\n",
       "      <td>0</td>\n",
       "      <td>7.7500</td>\n",
       "      <td>0</td>\n",
       "      <td>1</td>\n",
       "      <td>0</td>\n",
       "      <td>0</td>\n",
       "      <td>0</td>\n",
       "      <td>0</td>\n",
       "      <td>0</td>\n",
       "      <td>0</td>\n",
       "      <td>0</td>\n",
       "      <td>1</td>\n",
       "      <td>0</td>\n",
       "      <td>0</td>\n",
       "      <td>0</td>\n",
       "      <td>1</td>\n",
       "      <td>0</td>\n",
       "    </tr>\n",
       "  </tbody>\n",
       "</table>"
      ],
      "text/plain": [
       "<IPython.core.display.HTML object>"
      ]
     },
     "metadata": {},
     "output_type": "display_data"
    }
   ],
   "source": [
    "## Look at all the columns in the dataset\n",
    "def printall(X, max_rows=10):\n",
    "    display(HTML(X.to_html(max_rows = max_rows)))\n",
    "    \n",
    "printall(X)"
   ]
  },
  {
   "cell_type": "code",
   "execution_count": 34,
   "metadata": {},
   "outputs": [
    {
     "name": "stdout",
     "output_type": "stream",
     "text": [
      "C-stat : 0.8635211282608464\n"
     ]
    }
   ],
   "source": [
    "model = RandomForestRegressor(100, oob_score=True, n_jobs=-1, random_state=42)\n",
    "model.fit(X, y)\n",
    "print(\"C-stat :\", roc_auc_score(y, model.oob_prediction_))"
   ]
  },
  {
   "cell_type": "markdown",
   "metadata": {},
   "source": [
    "## Feature importances "
   ]
  },
  {
   "cell_type": "code",
   "execution_count": 35,
   "metadata": {},
   "outputs": [
    {
     "data": {
      "text/plain": [
       "array([9.11384671e-02, 2.38891052e-01, 4.43567267e-02, 2.15831071e-02,\n",
       "       2.15047796e-01, 1.43423437e-01, 1.58822440e-01, 2.95342368e-03,\n",
       "       3.79055011e-03, 6.47116172e-03, 4.30998991e-03, 8.59480266e-03,\n",
       "       1.02403226e-03, 8.12054428e-04, 2.67741854e-02, 6.64265010e-05,\n",
       "       1.06189189e-02, 0.00000000e+00, 6.00379221e-03, 1.53176370e-02])"
      ]
     },
     "execution_count": 35,
     "metadata": {},
     "output_type": "execute_result"
    }
   ],
   "source": [
    "model.feature_importances_"
   ]
  },
  {
   "cell_type": "code",
   "execution_count": 48,
   "metadata": {},
   "outputs": [
    {
     "data": {
      "text/plain": [
       "<matplotlib.axes._subplots.AxesSubplot at 0x1fe30341438>"
      ]
     },
     "execution_count": 48,
     "metadata": {},
     "output_type": "execute_result"
    },
    {
     "data": {
      "image/png": "[encoded data removed]",
      "text/plain": [
       "<matplotlib.figure.Figure at 0x1fe303350f0>"
      ]
     },
     "metadata": {},
     "output_type": "display_data"
    }
   ],
   "source": [
    "## Simple version that shows all of the variables\n",
    "feature_importances = pd.Series(model.feature_importances_, index=X.columns)\n",
    "feature_importances.sort_values(ascending=True, inplace=True)\n",
    "feature_importances.plot(kind=\"barh\", figsize=(7,6))"
   ]
  },
  {
   "cell_type": "markdown",
   "metadata": {},
   "source": [
    "## Find which variable is very inmportant"
   ]
  },
  {
   "cell_type": "code",
   "execution_count": 79,
   "metadata": {},
   "outputs": [
    {
     "data": {
      "image/png": "[encoded data removed]",
      "text/plain": [
       "<matplotlib.figure.Figure at 0x1fe30549eb8>"
      ]
     },
     "metadata": {},
     "output_type": "display_data"
    }
   ],
   "source": [
    "## Complex version that shows the summary view\n",
    "def graph_feature_importances(model, feature_names, autoscale=True, headroom=0.05, width=10, summarized_columns=None):\n",
    "    \"\"\"\n",
    "    By Georf\n",
    "    Graph the feature importances of a random decision forest using horizontal bar chart.\n",
    "    Probably works but untested on other sklearn.ensembles.\n",
    "    \n",
    "    Parameters\n",
    "    ----------\n",
    "    ensemble = Name of the ensemble whose features you would like graphed\n",
    "    featue_name = A list of the names of those features, displayed on the Y axis.\n",
    "    autoscale = True (Automatically adjust the X axis size to the largest feature +.headroom) / False = scale from 0 to 1\n",
    "    headroom = used with autoscale, 0.05 default\n",
    "    width = figue width in inches\n",
    "    summarized_columns = a list of column prefixes to summarize on, for dummy variables ie.g [\"day_] would summarize all days\n",
    "    \"\"\"\n",
    "    if autoscale:\n",
    "        x_scale = model.feature_importances_.max()+ headroom\n",
    "    else:\n",
    "        x_scale = 1\n",
    "    \n",
    "    feature_dict = dict(zip(feature_names, model.feature_importances_))\n",
    "    \n",
    "    if summarized_columns:\n",
    "        ## some dummy columns need to be summarized\n",
    "        for col_name in summarized_columns:\n",
    "            ## sum all the features that contain col_name, store in temp sum_value\n",
    "            sum_value = sum(x for i, x in feature_dict.items() if col_name in i)\n",
    "            \n",
    "            ## now remove all keys that are part of col_name\n",
    "            keys_to_remove = [i for i in feature_dict.keys() if col_name in i]\n",
    "            for i in keys_to_remove:\n",
    "                feature_dict.pop(i)\n",
    "            ##lastly, read the summarized field\n",
    "            feature_dict[col_name] = sum_value\n",
    "            \n",
    "    v_value = list(feature_dict.values())\n",
    "    results = pd.Series(v_value, index=feature_dict.keys())\n",
    "    results.sort_values(ascending=True, inplace=True)\n",
    "    results.plot(kind=\"barh\", figsize=(width, len(results)/4), xlim=(0, x_scale))\n",
    "    \n",
    "graph_feature_importances(model, X.columns, summarized_columns=categorical_variables)"
   ]
  },
  {
   "cell_type": "markdown",
   "metadata": {},
   "source": [
    "## Parameter tests"
   ]
  },
  {
   "cell_type": "markdown",
   "metadata": {},
   "source": [
    "## n_jobs"
   ]
  },
  {
   "cell_type": "code",
   "execution_count": 80,
   "metadata": {},
   "outputs": [
    {
     "name": "stdout",
     "output_type": "stream",
     "text": [
      "1 loop, best of 3: 2.44 s per loop\n"
     ]
    }
   ],
   "source": [
    "%%timeit\n",
    "model= RandomForestRegressor(1000, oob_score=True, n_jobs=1, random_state=42)\n",
    "model.fit(X, y)"
   ]
  },
  {
   "cell_type": "code",
   "execution_count": 81,
   "metadata": {},
   "outputs": [
    {
     "name": "stdout",
     "output_type": "stream",
     "text": [
      "1 loop, best of 3: 1.64 s per loop\n"
     ]
    }
   ],
   "source": [
    "%%timeit\n",
    "model= RandomForestRegressor(1000, oob_score=True, n_jobs=-1, random_state=42)\n",
    "model.fit(X, y)"
   ]
  },
  {
   "cell_type": "markdown",
   "metadata": {},
   "source": [
    "## n_estimators"
   ]
  },
  {
   "cell_type": "code",
   "execution_count": 82,
   "metadata": {},
   "outputs": [
    {
     "name": "stdout",
     "output_type": "stream",
     "text": [
      "30 trees\n",
      "C-stat : 0.8538704076524037\n",
      "\n",
      "50 trees\n",
      "C-stat : 0.8606983457429244\n",
      "\n",
      "100 trees\n",
      "C-stat : 0.8635211282608464\n",
      "\n",
      "200 trees\n",
      "C-stat : 0.8621922900755228\n",
      "\n",
      "500 trees\n",
      "C-stat : 0.863739494455629\n",
      "\n",
      "1000 trees\n",
      "C-stat : 0.8640430767264244\n",
      "\n",
      "2000 trees\n",
      "C-stat : 0.8634492271967107\n",
      "\n"
     ]
    },
    {
     "data": {
      "text/plain": [
       "<matplotlib.axes._subplots.AxesSubplot at 0x1fe31a005f8>"
      ]
     },
     "execution_count": 82,
     "metadata": {},
     "output_type": "execute_result"
    },
    {
     "data": {
      "image/png": "[encoded data removed]",
      "text/plain": [
       "<matplotlib.figure.Figure at 0x1fe31a3ad30>"
      ]
     },
     "metadata": {},
     "output_type": "display_data"
    }
   ],
   "source": [
    "results = []\n",
    "n_estimator_options = [30, 50, 100, 200, 500, 1000, 2000]\n",
    "\n",
    "for trees in n_estimator_options:\n",
    "    model = RandomForestRegressor(trees, oob_score=True, n_jobs=-1, random_state=42)\n",
    "    model.fit(X, y)\n",
    "    print(trees, \"trees\")\n",
    "    roc = roc_auc_score(y, model.oob_prediction_)\n",
    "    print(\"C-stat :\", roc)\n",
    "    results.append(roc)\n",
    "    print(\"\")\n",
    "    \n",
    "pd.Series(results,n_estimator_options).plot()"
   ]
  },
  {
   "cell_type": "markdown",
   "metadata": {},
   "source": [
    "## max_features"
   ]
  },
  {
   "cell_type": "code",
   "execution_count": 85,
   "metadata": {},
   "outputs": [
    {
     "name": "stdout",
     "output_type": "stream",
     "text": [
      "auto option\n",
      "C-stat : 0.8640430767264244\n",
      "\n",
      "None option\n",
      "C-stat : 0.8640430767264244\n",
      "\n",
      "sqrt option\n",
      "C-stat : 0.8633746631301995\n",
      "\n",
      "log2 option\n",
      "C-stat : 0.8633746631301995\n",
      "\n",
      "0.9 option\n",
      "C-stat : 0.8635344432727234\n",
      "\n",
      "0.2 option\n",
      "C-stat : 0.8633746631301995\n",
      "\n"
     ]
    },
    {
     "data": {
      "text/plain": [
       "<matplotlib.axes._subplots.AxesSubplot at 0x1fe33ad1710>"
      ]
     },
     "execution_count": 85,
     "metadata": {},
     "output_type": "execute_result"
    },
    {
     "data": {
      "image/png": "[encoded data removed]",
      "text/plain": [
       "<matplotlib.figure.Figure at 0x1fe32a13ac8>"
      ]
     },
     "metadata": {},
     "output_type": "display_data"
    }
   ],
   "source": [
    "results = []\n",
    "max_features_options = [\"auto\", None, \"sqrt\", \"log2\", 0.9, 0.2]\n",
    "\n",
    "for max_features in max_features_options:\n",
    "    model = RandomForestRegressor(n_estimators=1000, oob_score=True, n_jobs=-1, random_state=42, max_features=max_features)\n",
    "    model.fit(X, y)\n",
    "    print(max_features, \"option\")\n",
    "    roc = roc_auc_score(y, model.oob_prediction_)\n",
    "    print(\"C-stat :\", roc)\n",
    "    results.append(roc)\n",
    "    print(\"\")\n",
    "    \n",
    "pd.Series(results,max_features_options).plot(kind='barh', xlim=(.85, .88))"
   ]
  },
  {
   "cell_type": "markdown",
   "metadata": {},
   "source": [
    "## min_samples_leaf"
   ]
  },
  {
   "cell_type": "code",
   "execution_count": 88,
   "metadata": {},
   "outputs": [
    {
     "name": "stdout",
     "output_type": "stream",
     "text": [
      "0.2 min_samples\n",
      "C-stat : 0.8640430767264244\n",
      "\n",
      "0.2 min_samples\n",
      "C-stat : 0.8696540227313881\n",
      "\n",
      "0.2 min_samples\n",
      "C-stat : 0.8715713844416749\n",
      "\n",
      "0.2 min_samples\n",
      "C-stat : 0.87347809414246\n",
      "\n",
      "0.2 min_samples\n",
      "C-stat : 0.8742690058479532\n",
      "\n",
      "0.2 min_samples\n",
      "C-stat : 0.8740293356341673\n",
      "\n",
      "0.2 min_samples\n",
      "C-stat : 0.8733049989880591\n",
      "\n",
      "0.2 min_samples\n",
      "C-stat : 0.871866977705344\n",
      "\n",
      "0.2 min_samples\n",
      "C-stat : 0.8692945174107096\n",
      "\n",
      "0.2 min_samples\n",
      "C-stat : 0.8674304157479309\n",
      "\n"
     ]
    },
    {
     "data": {
      "text/plain": [
       "<matplotlib.axes._subplots.AxesSubplot at 0x1fe33aefbe0>"
      ]
     },
     "execution_count": 88,
     "metadata": {},
     "output_type": "execute_result"
    },
    {
     "data": {
      "image/png": "[encoded data removed]",
      "text/plain": [
       "<matplotlib.figure.Figure at 0x1fe31979780>"
      ]
     },
     "metadata": {},
     "output_type": "display_data"
    }
   ],
   "source": [
    "results = []\n",
    "min_samples_leaf_options = [1, 2, 3, 4, 5, 6, 7, 8, 9, 10]\n",
    "\n",
    "for min_samples in min_samples_leaf_options:\n",
    "    model = RandomForestRegressor(n_estimators=1000, \n",
    "                                  oob_score=True, n_jobs=-1, \n",
    "                                  random_state=42, \n",
    "                                  max_features=\"auto\",\n",
    "                                  min_samples_leaf=min_samples)\n",
    "    model.fit(X, y)\n",
    "    print(max_features, \"min_samples\")\n",
    "    roc = roc_auc_score(y, model.oob_prediction_)\n",
    "    print(\"C-stat :\", roc)\n",
    "    results.append(roc)\n",
    "    print(\"\")\n",
    "    \n",
    "pd.Series(results,min_samples_leaf_options).plot()"
   ]
  },
  {
   "cell_type": "markdown",
   "metadata": {},
   "source": [
    "# Final Model"
   ]
  },
  {
   "cell_type": "code",
   "execution_count": 89,
   "metadata": {},
   "outputs": [
    {
     "name": "stdout",
     "output_type": "stream",
     "text": [
      "C-stat : 0.8742690058479532\n"
     ]
    }
   ],
   "source": [
    "model = RandomForestRegressor(n_estimators=1000, \n",
    "                                  oob_score=True, n_jobs=-1, \n",
    "                                  random_state=42, \n",
    "                                  max_features=\"auto\",\n",
    "                                  min_samples_leaf=5)\n",
    "model.fit(X, y)\n",
    "roc = roc_auc_score(y, model.oob_prediction_)\n",
    "print(\"C-stat :\", roc)"
   ]
  },
  {
   "cell_type": "markdown",
   "metadata": {},
   "source": [
    "# 2- Pime Indians Diabetes Data"
   ]
  },
  {
   "cell_type": "code",
   "execution_count": 13,
   "metadata": {
    "scrolled": true
   },
   "outputs": [
    {
     "name": "stdout",
     "output_type": "stream",
     "text": [
      "C-stat : 0.8231156716417911\n"
     ]
    }
   ],
   "source": [
    "# load pima indians dataset\n",
    "X = pd.read_csv(\"data/pima-indians-diabetes.csv\", delimiter=\",\")\n",
    "# split into input (X) and output (Y) variables\n",
    "y = X.pop('Outcome')   # select only the last column\n",
    "\n",
    "## Model \n",
    "model = RandomForestRegressor(100, oob_score=True, n_jobs=-1, random_state=42)\n",
    "model.fit(X, y)\n",
    "print(\"C-stat :\", roc_auc_score(y, model.oob_prediction_))"
   ]
  },
  {
   "cell_type": "code",
   "execution_count": 16,
   "metadata": {},
   "outputs": [
    {
     "data": {
      "image/png": "[encoded data removed]",
      "text/plain": [
       "<Figure size 720x144 with 1 Axes>"
      ]
     },
     "metadata": {
      "needs_background": "light"
     },
     "output_type": "display_data"
    }
   ],
   "source": [
    "## Check importance of all variables\n",
    "## Complex version that shows the summary view\n",
    "def graph_feature_importances(model, feature_names, autoscale=True, headroom=0.05, width=10, summarized_columns=None):\n",
    "    \"\"\"\n",
    "    By Georf\n",
    "    Graph the feature importances of a random decision forest using horizontal bar chart.\n",
    "    Probably works but untested on other sklearn.ensembles.\n",
    "    \n",
    "    Parameters\n",
    "    ----------\n",
    "    ensemble = Name of the ensemble whose features you would like graphed\n",
    "    featue_name = A list of the names of those features, displayed on the Y axis.\n",
    "    autoscale = True (Automatically adjust the X axis size to the largest feature +.headroom) / False = scale from 0 to 1\n",
    "    headroom = used with autoscale, 0.05 default\n",
    "    width = figue width in inches\n",
    "    summarized_columns = a list of column prefixes to summarize on, for dummy variables ie.g [\"day_] would summarize all days\n",
    "    \"\"\"\n",
    "    if autoscale:\n",
    "        x_scale = model.feature_importances_.max()+ headroom\n",
    "    else:\n",
    "        x_scale = 1\n",
    "    \n",
    "    feature_dict = dict(zip(feature_names, model.feature_importances_))\n",
    "    \n",
    "    if summarized_columns:\n",
    "        ## some dummy columns need to be summarized\n",
    "        for col_name in summarized_columns:\n",
    "            ## sum all the features that contain col_name, store in temp sum_value\n",
    "            sum_value = sum(x for i, x in feature_dict.items() if col_name in i)\n",
    "            \n",
    "            ## now remove all keys that are part of col_name\n",
    "            keys_to_remove = [i for i in feature_dict.keys() if col_name in i]\n",
    "            for i in keys_to_remove:\n",
    "                feature_dict.pop(i)\n",
    "            ##lastly, read the summarized field\n",
    "            feature_dict[col_name] = sum_value\n",
    "            \n",
    "    v_value = list(feature_dict.values())\n",
    "    results = pd.Series(v_value, index=feature_dict.keys())\n",
    "    results.sort_values(ascending=True, inplace=True)\n",
    "    results.plot(kind=\"barh\", figsize=(width, len(results)/4), xlim=(0, x_scale))\n",
    "    \n",
    "graph_feature_importances(model, X.columns, summarized_columns=None)"
   ]
  },
  {
   "cell_type": "markdown",
   "metadata": {},
   "source": [
    "## Parameter tests"
   ]
  },
  {
   "cell_type": "markdown",
   "metadata": {},
   "source": [
    "### Parameters that will make the model better\n",
    "* n_estimators : The number of trees in the forest. Choose as high of a number as your computer can handle.\n",
    "    \n",
    "* max_features: The number of features to consider when looking for the best split. Try [\"auto\",\"None\",\"sqrt\",\"log2\",0.9, and 0.2]\n",
    "    \n",
    "* min_samples_leaf: The minimum number of samples on newly created leaves. Try [1,2,3]. If 3 is the best, try higher numbers such as 1 through 10."
   ]
  },
  {
   "cell_type": "markdown",
   "metadata": {},
   "source": [
    "Parameters that will make the model better\n",
    "    <h4> - n_estimators:</h4>The number of trees in the forest. Choose as high of a number as your computer can handle.<h4> - max_features:</h4> The number of features to consider when looking for the best split. Try [\"auto\",\"None\",\"sqrt\",\"log2\",0.9, and 0.2] <h4> - min_samples_leaf:</h4> The minimum number of samples on newly created leaves. Try [1,2,3]. If 3 is the best, try higher numbers such as 1 through 10. "
   ]
  },
  {
   "cell_type": "markdown",
   "metadata": {},
   "source": [
    "## n_jobs"
   ]
  },
  {
   "cell_type": "code",
   "execution_count": 18,
   "metadata": {},
   "outputs": [
    {
     "name": "stdout",
     "output_type": "stream",
     "text": [
      "253 ms ± 24.7 ms per loop (mean ± std. dev. of 7 runs, 1 loop each)\n"
     ]
    }
   ],
   "source": [
    "%%timeit\n",
    "model = RandomForestRegressor(100, oob_score=True, n_jobs=1, random_state=42)\n",
    "model.fit(X, y)"
   ]
  },
  {
   "cell_type": "code",
   "execution_count": 19,
   "metadata": {},
   "outputs": [
    {
     "name": "stdout",
     "output_type": "stream",
     "text": [
      "193 ms ± 5.46 ms per loop (mean ± std. dev. of 7 runs, 1 loop each)\n"
     ]
    }
   ],
   "source": [
    "%%timeit\n",
    "model = RandomForestRegressor(100, oob_score=True, n_jobs=-1, random_state=42)\n",
    "model.fit(X, y)"
   ]
  },
  {
   "cell_type": "markdown",
   "metadata": {},
   "source": [
    "## n_estimators"
   ]
  },
  {
   "cell_type": "code",
   "execution_count": 20,
   "metadata": {
    "scrolled": false
   },
   "outputs": [
    {
     "name": "stdout",
     "output_type": "stream",
     "text": [
      "30 trees\n",
      "C-stat : 0.8080261194029851\n",
      "\n",
      "50 trees\n",
      "C-stat : 0.8156791044776118\n",
      "\n",
      "100 trees\n",
      "C-stat : 0.8231156716417911\n",
      "\n",
      "200 trees\n",
      "C-stat : 0.8271716417910449\n",
      "\n",
      "500 trees\n",
      "C-stat : 0.8242649253731342\n",
      "\n",
      "1000 trees\n",
      "C-stat : 0.8239589552238806\n",
      "\n",
      "2000 trees\n",
      "C-stat : 0.8232014925373135\n",
      "\n"
     ]
    },
    {
     "data": {
      "text/plain": [
       "<matplotlib.axes._subplots.AxesSubplot at 0x24895b34828>"
      ]
     },
     "execution_count": 20,
     "metadata": {},
     "output_type": "execute_result"
    },
    {
     "data": {
      "image/png": "[encoded data removed]",
      "text/plain": [
       "<Figure size 432x288 with 1 Axes>"
      ]
     },
     "metadata": {
      "needs_background": "light"
     },
     "output_type": "display_data"
    }
   ],
   "source": [
    "results = []\n",
    "n_estimator_options = [30, 50, 100, 200, 500, 1000, 2000]\n",
    "\n",
    "for trees in n_estimator_options:\n",
    "    model = RandomForestRegressor(trees, oob_score=True, n_jobs=-1, random_state=42)\n",
    "    model.fit(X, y)\n",
    "    print(trees, \"trees\")\n",
    "    roc = roc_auc_score(y, model.oob_prediction_)\n",
    "    print(\"C-stat :\", roc)\n",
    "    results.append(roc)\n",
    "    print(\"\")\n",
    "    \n",
    "pd.Series(results,n_estimator_options).plot()"
   ]
  },
  {
   "cell_type": "markdown",
   "metadata": {},
   "source": [
    "## max_features"
   ]
  },
  {
   "cell_type": "code",
   "execution_count": 25,
   "metadata": {},
   "outputs": [
    {
     "name": "stdout",
     "output_type": "stream",
     "text": [
      "auto option\n",
      "C-stat : 0.8239589552238806\n",
      "\n",
      "None option\n",
      "C-stat : 0.8239589552238806\n",
      "\n",
      "sqrt option\n",
      "C-stat : 0.8257537313432837\n",
      "\n",
      "log2 option\n",
      "C-stat : 0.8265820895522389\n",
      "\n",
      "0.9 option\n",
      "C-stat : 0.8242537313432836\n",
      "\n",
      "0.2 option\n",
      "C-stat : 0.8217873134328358\n",
      "\n"
     ]
    },
    {
     "data": {
      "text/plain": [
       "<matplotlib.axes._subplots.AxesSubplot at 0x24896c19198>"
      ]
     },
     "execution_count": 25,
     "metadata": {},
     "output_type": "execute_result"
    },
    {
     "data": {
      "image/png": "[encoded data removed]",
      "text/plain": [
       "<Figure size 432x288 with 1 Axes>"
      ]
     },
     "metadata": {
      "needs_background": "light"
     },
     "output_type": "display_data"
    }
   ],
   "source": [
    "results = []\n",
    "max_features_options = [\"auto\", None, \"sqrt\", \"log2\", 0.9, 0.2]\n",
    "\n",
    "for max_features in max_features_options:\n",
    "    model = RandomForestRegressor(n_estimators=1000, oob_score=True, n_jobs=-1, random_state=42, max_features=max_features)\n",
    "    model.fit(X, y)\n",
    "    print(max_features, \"option\")\n",
    "    roc = roc_auc_score(y, model.oob_prediction_)\n",
    "    print(\"C-stat :\", roc)\n",
    "    results.append(roc)\n",
    "    print(\"\")\n",
    "    \n",
    "pd.Series(results,max_features_options).plot(kind='barh', xlim=(.60, .88))"
   ]
  },
  {
   "cell_type": "markdown",
   "metadata": {},
   "source": [
    "## min_samples_leaf"
   ]
  },
  {
   "cell_type": "code",
   "execution_count": 29,
   "metadata": {
    "scrolled": false
   },
   "outputs": [
    {
     "name": "stdout",
     "output_type": "stream",
     "text": [
      "0.2 min_samples\n",
      "C-stat : 0.8343358208955224\n",
      "\n",
      "0.2 min_samples\n",
      "C-stat : 0.8369701492537314\n",
      "\n",
      "0.2 min_samples\n",
      "C-stat : 0.8340000000000001\n",
      "\n",
      "0.2 min_samples\n",
      "C-stat : 0.8334626865671642\n",
      "\n",
      "0.2 min_samples\n",
      "C-stat : 0.8351940298507463\n",
      "\n",
      "0.2 min_samples\n",
      "C-stat : 0.8343880597014925\n",
      "\n",
      "0.2 min_samples\n",
      "C-stat : 0.8355522388059702\n",
      "\n",
      "0.2 min_samples\n",
      "C-stat : 0.8347313432835822\n",
      "\n",
      "0.2 min_samples\n",
      "C-stat : 0.8337686567164179\n",
      "\n",
      "0.2 min_samples\n",
      "C-stat : 0.8337313432835821\n",
      "\n",
      "0.2 min_samples\n",
      "C-stat : 0.832589552238806\n",
      "\n",
      "0.2 min_samples\n",
      "C-stat : 0.8343134328358209\n",
      "\n",
      "0.2 min_samples\n",
      "C-stat : 0.8339626865671643\n",
      "\n",
      "0.2 min_samples\n",
      "C-stat : 0.8337388059701494\n",
      "\n",
      "0.2 min_samples\n",
      "C-stat : 0.8322835820895522\n",
      "\n"
     ]
    },
    {
     "data": {
      "text/plain": [
       "<matplotlib.axes._subplots.AxesSubplot at 0x24895a35b38>"
      ]
     },
     "execution_count": 29,
     "metadata": {},
     "output_type": "execute_result"
    },
    {
     "data": {
      "image/png": "[encoded data removed]",
      "text/plain": [
       "<Figure size 432x288 with 1 Axes>"
      ]
     },
     "metadata": {
      "needs_background": "light"
     },
     "output_type": "display_data"
    }
   ],
   "source": [
    "results = []\n",
    "min_samples_leaf_options = [9, 10, 11, 12, 13, 14, 15, 16, 17, 18, 19, 20, 21, 22, 23]\n",
    "\n",
    "for min_samples in min_samples_leaf_options:\n",
    "    model = RandomForestRegressor(n_estimators=200, \n",
    "                                  oob_score=True, n_jobs=-1, \n",
    "                                  random_state=42, \n",
    "                                  max_features=\"log2\",\n",
    "                                  min_samples_leaf=min_samples)\n",
    "    model.fit(X, y)\n",
    "    print(max_features, \"min_samples\")\n",
    "    roc = roc_auc_score(y, model.oob_prediction_)\n",
    "    print(\"C-stat :\", roc)\n",
    "    results.append(roc)\n",
    "    print(\"\")\n",
    "    \n",
    "pd.Series(results,min_samples_leaf_options).plot()"
   ]
  },
  {
   "cell_type": "markdown",
   "metadata": {},
   "source": [
    "## Final Model for Pime Indians Diabetes is :"
   ]
  },
  {
   "cell_type": "code",
   "execution_count": 30,
   "metadata": {},
   "outputs": [
    {
     "name": "stdout",
     "output_type": "stream",
     "text": [
      "C-stat : 0.8369701492537314\n"
     ]
    }
   ],
   "source": [
    "model = RandomForestRegressor(n_estimators=200, \n",
    "                                  oob_score=True, n_jobs=-1, \n",
    "                                  random_state=42, \n",
    "                                  max_features=\"log2\",\n",
    "                                  min_samples_leaf=10)\n",
    "model.fit(X, y)\n",
    "roc = roc_auc_score(y, model.oob_prediction_)\n",
    "print(\"C-stat :\", roc) # previous C-stat was : 0.8231156716417911"
   ]
  },
  {
   "cell_type": "code",
   "execution_count": 31,
   "metadata": {},
   "outputs": [],
   "source": [
    "from sklearn.cross_validation import train_test_split\n",
    "\n",
    "X_train, X_test, y_train, y_test = train_test_split(X, y, test_size=0.33, random_state=7)"
   ]
  },
  {
   "cell_type": "code",
   "execution_count": 32,
   "metadata": {},
   "outputs": [
    {
     "data": {
      "text/plain": [
       "RandomForestRegressor(bootstrap=True, criterion='mse', max_depth=None,\n",
       "           max_features='log2', max_leaf_nodes=None,\n",
       "           min_impurity_decrease=0.0, min_impurity_split=None,\n",
       "           min_samples_leaf=10, min_samples_split=2,\n",
       "           min_weight_fraction_leaf=0.0, n_estimators=200, n_jobs=-1,\n",
       "           oob_score=True, random_state=42, verbose=0, warm_start=False)"
      ]
     },
     "execution_count": 32,
     "metadata": {},
     "output_type": "execute_result"
    }
   ],
   "source": [
    "model.fit(X_train, y_train)"
   ]
  },
  {
   "cell_type": "code",
   "execution_count": 41,
   "metadata": {
    "scrolled": true
   },
   "outputs": [
    {
     "data": {
      "text/plain": [
       "array([0.02655723, 0.82513154, 0.49463067, 0.09740894, 0.48777624,\n",
       "       0.58375293, 0.08582962, 0.20986752, 0.85278987, 0.16380067,\n",
       "       0.79879172, 0.07723713, 0.72324919, 0.76980821, 0.23212321,\n",
       "       0.21650016, 0.26372408, 0.35987717, 0.17112097, 0.1925085 ,\n",
       "       0.49102919, 0.16888183, 0.80768659, 0.71054993, 0.09897402,\n",
       "       0.11700951, 0.04280874, 0.60729282, 0.46147724, 0.33971066,\n",
       "       0.44748757, 0.19645851, 0.32618756, 0.42847665, 0.05162799,\n",
       "       0.39100294, 0.51606399, 0.27591252, 0.69375803, 0.39234328,\n",
       "       0.65187705, 0.79579656, 0.56375624, 0.00363254, 0.22238302,\n",
       "       0.15934264, 0.54925551, 0.55121018, 0.23436321, 0.47118754,\n",
       "       0.03429219, 0.04622299, 0.51339755, 0.24023961, 0.64737683,\n",
       "       0.43391975, 0.18592215, 0.05160504, 0.3689508 , 0.32481955,\n",
       "       0.16915486, 0.71654782, 0.216906  , 0.6366525 , 0.68000947,\n",
       "       0.62803414, 0.2528557 , 0.57757257, 0.85298165, 0.60793449,\n",
       "       0.84210711, 0.73884382, 0.1665512 , 0.26719502, 0.16628808,\n",
       "       0.32549961, 0.23857559, 0.13779864, 0.02096365, 0.26334775,\n",
       "       0.23786415, 0.28956594, 0.26192158, 0.04666728, 0.39129708,\n",
       "       0.50707156, 0.83604941, 0.18342739, 0.61291739, 0.06368905,\n",
       "       0.58006079, 0.0869047 , 0.63009053, 0.31394974, 0.29083167,\n",
       "       0.51754174, 0.60572238, 0.04876897, 0.57466923, 0.57892119,\n",
       "       0.52499364, 0.22320412, 0.32398121, 0.36546905, 0.08496673,\n",
       "       0.2843061 , 0.2122448 , 0.29143555, 0.19847274, 0.77760618,\n",
       "       0.0249529 , 0.72828107, 0.14825133, 0.06267653, 0.51797798,\n",
       "       0.40676963, 0.10179304, 0.33963166, 0.58860748, 0.50434353,\n",
       "       0.21795566, 0.02160168, 0.12856666, 0.02108246, 0.05194197,\n",
       "       0.74293888, 0.01707844, 0.59252847, 0.07095608, 0.15600513,\n",
       "       0.06490992, 0.83840303, 0.06518159, 0.14473966, 0.41192033,\n",
       "       0.0198859 , 0.05669693, 0.41924323, 0.003788  , 0.86787718,\n",
       "       0.17725388, 0.46859731, 0.45404793, 0.64363407, 0.17031647,\n",
       "       0.48519269, 0.54917146, 0.12961872, 0.84449561, 0.58584154,\n",
       "       0.13042053, 0.40444886, 0.22459929, 0.03764221, 0.3304553 ,\n",
       "       0.13367437, 0.75661424, 0.14322674, 0.51868708, 0.18794314,\n",
       "       0.44939997, 0.13218443, 0.02564204, 0.06493028, 0.65697376,\n",
       "       0.35880612, 0.58543841, 0.12285901, 0.26679722, 0.84153742,\n",
       "       0.09069455, 0.81758443, 0.43917125, 0.37846444, 0.44820517,\n",
       "       0.34555819, 0.68863978, 0.52668607, 0.6526191 , 0.34341903,\n",
       "       0.67359796, 0.29586038, 0.01500312, 0.2990195 , 0.38511018,\n",
       "       0.26521841, 0.04899536, 0.02463724, 0.05683499, 0.80918887,\n",
       "       0.69235606, 0.24132459, 0.75666782, 0.79398415, 0.35061657,\n",
       "       0.4952217 , 0.74341495, 0.01399481, 0.0225248 , 0.38472973,\n",
       "       0.50252929, 0.51580453, 0.85896384, 0.83240034, 0.37616892,\n",
       "       0.0535812 , 0.67269806, 0.04827529, 0.38080445, 0.02105306,\n",
       "       0.76159991, 0.68389393, 0.14208376, 0.25148831, 0.39730607,\n",
       "       0.02080964, 0.15971364, 0.70902261, 0.01695816, 0.40345935,\n",
       "       0.01329638, 0.64060403, 0.689829  , 0.34447234, 0.44560853,\n",
       "       0.56983806, 0.44956493, 0.47987885, 0.74943707, 0.09924574,\n",
       "       0.36957141, 0.56707135, 0.31050706, 0.27615477, 0.09583019,\n",
       "       0.14946042, 0.01126585, 0.79090787, 0.66029041, 0.25194171,\n",
       "       0.56933807, 0.71547995, 0.43596902, 0.15726279, 0.81612921,\n",
       "       0.05909689, 0.38384396, 0.20480991, 0.17209011, 0.22696662,\n",
       "       0.02082586, 0.43274908, 0.69611121, 0.88133579])"
      ]
     },
     "execution_count": 41,
     "metadata": {},
     "output_type": "execute_result"
    }
   ],
   "source": [
    "model.predict(X_test)"
   ]
  },
  {
   "cell_type": "code",
   "execution_count": null,
   "metadata": {},
   "outputs": [],
   "source": []
  }
 ],
 "metadata": {
  "hide_input": false,
  "kernelspec": {
   "display_name": "Python 3",
   "language": "python",
   "name": "python3"
  },
  "language_info": {
   "codemirror_mode": {
    "name": "ipython",
    "version": 3
   },
   "file_extension": ".py",
   "mimetype": "text/x-python",
   "name": "python",
   "nbconvert_exporter": "python",
   "pygments_lexer": "ipython3",
   "version": "3.6.8"
  },
  "latex_envs": {
   "LaTeX_envs_menu_present": true,
   "autoclose": false,
   "autocomplete": true,
   "bibliofile": "biblio.bib",
   "cite_by": "apalike",
   "current_citInitial": 1,
   "eqLabelWithNumbers": true,
   "eqNumInitial": 1,
   "hotkeys": {
    "equation": "Ctrl-E",
    "itemize": "Ctrl-I"
   },
   "labels_anchors": false,
   "latex_user_defs": false,
   "report_style_numbering": false,
   "user_envs_cfg": false
  }
 },
 "nbformat": 4,
 "nbformat_minor": 2
}
