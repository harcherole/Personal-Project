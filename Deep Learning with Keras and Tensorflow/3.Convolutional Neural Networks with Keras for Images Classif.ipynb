{
 "cells": [
  {
   "cell_type": "code",
   "execution_count": 6,
   "metadata": {
    "scrolled": true
   },
   "outputs": [
    {
     "name": "stdout",
     "output_type": "stream",
     "text": [
      "Train on 17462 samples, validate on 7484 samples\n",
      "Epoch 1/10\n",
      "17462/17462 [==============================] - 176s 10ms/step - loss: 0.6253 - acc: 0.6376 - val_loss: 0.5747 - val_acc: 0.6978\n",
      "Epoch 2/10\n",
      "17462/17462 [==============================] - 169s 10ms/step - loss: 0.5335 - acc: 0.7332 - val_loss: 0.5094 - val_acc: 0.7555\n",
      "Epoch 3/10\n",
      "17462/17462 [==============================] - 169s 10ms/step - loss: 0.4965 - acc: 0.7626 - val_loss: 0.4847 - val_acc: 0.7712\n",
      "Epoch 4/10\n",
      "17462/17462 [==============================] - 167s 10ms/step - loss: 0.4708 - acc: 0.7790 - val_loss: 0.4815 - val_acc: 0.7765\n",
      "Epoch 5/10\n",
      "17462/17462 [==============================] - 167s 10ms/step - loss: 0.4491 - acc: 0.7925 - val_loss: 0.4838 - val_acc: 0.7743\n",
      "Epoch 6/10\n",
      "17462/17462 [==============================] - 171s 10ms/step - loss: 0.4319 - acc: 0.8010 - val_loss: 0.4774 - val_acc: 0.7719\n",
      "Epoch 7/10\n",
      "17462/17462 [==============================] - 167s 10ms/step - loss: 0.4107 - acc: 0.8141 - val_loss: 0.4562 - val_acc: 0.7918\n",
      "Epoch 8/10\n",
      "17462/17462 [==============================] - 170s 10ms/step - loss: 0.3963 - acc: 0.8209 - val_loss: 0.4504 - val_acc: 0.7933\n",
      "Epoch 9/10\n",
      "17462/17462 [==============================] - 173s 10ms/step - loss: 0.3744 - acc: 0.8307 - val_loss: 0.4610 - val_acc: 0.7873\n",
      "Epoch 10/10\n",
      "17462/17462 [==============================] - 171s 10ms/step - loss: 0.3623 - acc: 0.8383 - val_loss: 0.4646 - val_acc: 0.7945\n"
     ]
    },
    {
     "data": {
      "text/plain": [
       "<tensorflow.python.keras.callbacks.History at 0x1dca1eaec18>"
      ]
     },
     "execution_count": 6,
     "metadata": {},
     "output_type": "execute_result"
    }
   ],
   "source": [
    "import tensorflow as tf\n",
    "from tensorflow.keras.datasets import cifar10\n",
    "from tensorflow.keras.preprocessing.image import ImageDataGenerator\n",
    "from tensorflow.keras.models import Sequential\n",
    "from tensorflow.keras.layers import Dense, Dropout, Activation, Flatten\n",
    "from tensorflow.keras.layers import Conv2D, MaxPooling2D\n",
    "from tensorflow.keras.callbacks import TensorBoard\n",
    "import cloudpickle as pickle\n",
    "import time\n",
    "\n",
    "## Name your train model for TensorBoard\n",
    "NAME = \"Cats-vs-Dogs-cnn-64x2-{}\".format(int(time.time()))\n",
    "## TensorBoard\n",
    "tensorboard = TensorBoard(log_dir='logs/{}'.format(NAME))\n",
    "\n",
    "## Configure your GPU for large calcul\n",
    "gpu_options = tf.GPUOptions(per_process_gpu_memory_fraction=0.333)\n",
    "sess = tf.Session(config=tf.ConfigProto(gpu_options=gpu_options))\n",
    "\n",
    "## Load pickle you're prevouislly calculate\n",
    "pickle_in = open(\"X.pickle\",\"rb\")\n",
    "X = pickle.load(pickle_in)\n",
    "\n",
    "pickle_in = open(\"y.pickle\",\"rb\")\n",
    "y = pickle.load(pickle_in)\n",
    "\n",
    "X = X/255.0 ## Normalize the data X\n",
    "\n",
    "## Initial Keras Sequential \n",
    "model = Sequential()\n",
    "\n",
    "model.add(Conv2D(64, (3, 3), input_shape=X.shape[1:]))\n",
    "model.add(Activation('relu'))\n",
    "model.add(MaxPooling2D(pool_size=(2, 2)))\n",
    "\n",
    "model.add(Conv2D(64, (3, 3)))\n",
    "model.add(Activation('relu'))\n",
    "model.add(MaxPooling2D(pool_size=(2, 2)))\n",
    "\n",
    "model.add(Flatten())  # this converts our 3D feature maps to 1D feature vectors\n",
    "\n",
    "model.add(Dense(1))\n",
    "model.add(Activation('sigmoid'))\n",
    "\n",
    "model.compile(loss='binary_crossentropy',\n",
    "              optimizer='adam',\n",
    "              metrics=['accuracy'])\n",
    "\n",
    "model.fit(X, y, batch_size=32, epochs=10, validation_split=0.3, callbacks=[tensorboard])"
   ]
  }
 ],
 "metadata": {
  "kernelspec": {
   "display_name": "Python 3",
   "language": "python",
   "name": "python3"
  },
  "language_info": {
   "codemirror_mode": {
    "name": "ipython",
    "version": 3
   },
   "file_extension": ".py",
   "mimetype": "text/x-python",
   "name": "python",
   "nbconvert_exporter": "python",
   "pygments_lexer": "ipython3",
   "version": "3.6.7"
  }
 },
 "nbformat": 4,
 "nbformat_minor": 2
}
