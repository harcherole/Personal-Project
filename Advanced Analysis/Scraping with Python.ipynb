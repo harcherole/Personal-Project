{
 "cells": [
  {
   "cell_type": "markdown",
   "metadata": {},
   "source": [
    "## Step 1: The Libraries & Browser"
   ]
  },
  {
   "cell_type": "code",
   "execution_count": 57,
   "metadata": {},
   "outputs": [],
   "source": [
    "### Import the libraries & Browser\n",
    "from splinter import Browser\n",
    "import pandas as pd\n",
    "\n",
    "url = \"https://www.google.com\"\n",
    "\n",
    "executable_path = {'executable_path':'C:/webdriver/chromedriver'}\n",
    "\n",
    "browser = Browser('chrome', **executable_path)\n",
    "\n",
    "# Width, Height\n",
    "#browser.driver.set_window_size(640, 480)\n",
    "browser.visit(url)\n",
    "\n",
    "#search_bar_xpath = '//*[@id=\"tsf\"]'\n",
    "browser.fill('q', 'splinter - python acceptance testing for web applications')\n",
    "button = browser.find_by_name('btnK')\n",
    "button.click()"
   ]
  },
  {
   "cell_type": "markdown",
   "metadata": {},
   "source": [
    "## Web Scraping with python"
   ]
  },
  {
   "cell_type": "code",
   "execution_count": 1,
   "metadata": {},
   "outputs": [],
   "source": [
    "## Import the Library\n",
    "from bs4 import BeautifulSoup\n",
    "import requests"
   ]
  },
  {
   "cell_type": "code",
   "execution_count": 2,
   "metadata": {},
   "outputs": [],
   "source": [
    "## Download the web page containing the forecast\n",
    "page = requests.get(\"http://forecast.weather.gov/MapClick.php?lat=37.7772&lon=-122.4168\")"
   ]
  },
  {
   "cell_type": "code",
   "execution_count": 4,
   "metadata": {},
   "outputs": [],
   "source": [
    "## Create a BeautifulSoup class to parse the page\n",
    "soup = BeautifulSoup(page.content, 'html.parser')"
   ]
  },
  {
   "cell_type": "code",
   "execution_count": 6,
   "metadata": {},
   "outputs": [],
   "source": [
    "## Find the div with id seven-day-forecast, and assign to seven_day\n",
    "seven_day = soup.find(id=\"seven-day-forecast\")"
   ]
  },
  {
   "cell_type": "code",
   "execution_count": 7,
   "metadata": {},
   "outputs": [],
   "source": [
    "## Inside seven_day, find each individual forecast item.\n",
    "forecast_items = seven_day.find_all(class_=\"tombstone-container\")"
   ]
  },
  {
   "cell_type": "code",
   "execution_count": 8,
   "metadata": {},
   "outputs": [
    {
     "name": "stdout",
     "output_type": "stream",
     "text": [
      "<div class=\"tombstone-container\">\n",
      " <p class=\"period-name\">\n",
      "  Today\n",
      "  <br/>\n",
      "  <br/>\n",
      " </p>\n",
      " <p>\n",
      "  <img alt=\"Today: Partly sunny, with a high near 58. North wind around 6 mph becoming west in the afternoon. \" class=\"forecast-icon\" src=\"newimages/medium/bkn.png\" title=\"Today: Partly sunny, with a high near 58. North wind around 6 mph becoming west in the afternoon. \"/>\n",
      " </p>\n",
      " <p class=\"short-desc\">\n",
      "  Partly Sunny\n",
      " </p>\n",
      " <p class=\"temp temp-high\">\n",
      "  High: 58 °F\n",
      " </p>\n",
      "</div>\n"
     ]
    }
   ],
   "source": [
    "## Extract and print the first forecast item\n",
    "tonight = forecast_items[0]\n",
    "print(tonight.prettify())"
   ]
  },
  {
   "cell_type": "markdown",
   "metadata": {},
   "source": [
    "#### We'll extract the name of the forecast item"
   ]
  },
  {
   "cell_type": "code",
   "execution_count": 11,
   "metadata": {},
   "outputs": [
    {
     "name": "stdout",
     "output_type": "stream",
     "text": [
      "Today\n",
      "Partly Sunny\n",
      "High: 58 °F\n"
     ]
    }
   ],
   "source": [
    "period = tonight.find(class_ = \"period-name\").get_text()\n",
    "short_Desc = tonight.find(class_ = \"short-desc\").get_text()\n",
    "temp = tonight.find(class_ = \"temp temp-high\").get_text()\n",
    "\n",
    "print(period)\n",
    "print(short_Desc)\n",
    "print(temp)"
   ]
  },
  {
   "cell_type": "code",
   "execution_count": 16,
   "metadata": {},
   "outputs": [
    {
     "name": "stdout",
     "output_type": "stream",
     "text": [
      "<img alt=\"Today: Partly sunny, with a high near 58. North wind around 6 mph becoming west in the afternoon. \" class=\"forecast-icon\" src=\"newimages/medium/bkn.png\" title=\"Today: Partly sunny, with a high near 58. North wind around 6 mph becoming west in the afternoon. \"/>\n",
      "\n",
      "Today: Partly sunny, with a high near 58. North wind around 6 mph becoming west in the afternoon. \n"
     ]
    }
   ],
   "source": [
    "## we can extract the title attribute from the img tag\n",
    "img = tonight.find('img')\n",
    "print(img.prettify())\n",
    "desc = img['title']\n",
    "print(desc)"
   ]
  },
  {
   "cell_type": "code",
   "execution_count": 29,
   "metadata": {},
   "outputs": [
    {
     "name": "stdout",
     "output_type": "stream",
     "text": [
      "[<p class=\"period-name\">Today<br/><br/></p>, <p class=\"period-name\">Tonight<br/><br/></p>, <p class=\"period-name\">Friday<br/><br/></p>, <p class=\"period-name\">Friday<br/>Night</p>, <p class=\"period-name\">Saturday<br/><br/></p>, <p class=\"period-name\">Saturday<br/>Night</p>, <p class=\"period-name\">Sunday<br/><br/></p>, <p class=\"period-name\">Sunday<br/>Night</p>, <p class=\"period-name\">Monday<br/><br/></p>]\n"
     ]
    },
    {
     "data": {
      "text/plain": [
       "['Today',\n",
       " 'Tonight',\n",
       " 'Friday',\n",
       " 'FridayNight',\n",
       " 'Saturday',\n",
       " 'SaturdayNight',\n",
       " 'Sunday',\n",
       " 'SundayNight',\n",
       " 'Monday']"
      ]
     },
     "execution_count": 29,
     "metadata": {},
     "output_type": "execute_result"
    }
   ],
   "source": [
    "## I use list comprehension to call the get_text method on each BeautifulSoup object\n",
    "period_tags = seven_day.select(\".tombstone-container .period-name\")\n",
    "print(period_tags)\n",
    "periods = [pt.get_text() for pt in period_tags]\n",
    "periods"
   ]
  },
  {
   "cell_type": "code",
   "execution_count": 19,
   "metadata": {},
   "outputs": [
    {
     "name": "stdout",
     "output_type": "stream",
     "text": [
      "['Partly Sunny', 'Slight ChanceRain', 'Partly Sunny', 'Partly Cloudy', 'Mostly Sunny', 'Mostly Cloudy', 'Slight ChanceRain', 'Slight ChanceRain', 'Chance Rain']\n",
      "['High: 58 °F', 'Low: 52 °F', 'High: 58 °F', 'Low: 48 °F', 'High: 58 °F', 'Low: 50 °F', 'High: 59 °F', 'Low: 51 °F', 'High: 58 °F']\n",
      "['Today: Partly sunny, with a high near 58. North wind around 6 mph becoming west in the afternoon. ', 'Tonight: A 20 percent chance of rain.  Mostly cloudy, with a low around 52. South wind 5 to 8 mph.  New precipitation amounts of less than a tenth of an inch possible. ', 'Friday: Partly sunny, with a high near 58. Northwest wind 5 to 7 mph. ', 'Friday Night: Partly cloudy, with a low around 48. North wind 6 to 10 mph. ', 'Saturday: Mostly sunny, with a high near 58. Light and variable wind becoming west 5 to 8 mph in the morning. ', 'Saturday Night: Mostly cloudy, with a low around 50.', 'Sunday: A 20 percent chance of rain.  Partly sunny, with a high near 59.', 'Sunday Night: A slight chance of rain.  Mostly cloudy, with a low around 51.', 'Monday: A chance of rain.  Mostly cloudy, with a high near 58.']\n"
     ]
    }
   ],
   "source": [
    "short_descs = [sd.get_text() for sd in seven_day.select(\".tombstone-container .short-desc\")]\n",
    "temps = [t.get_text() for t in seven_day.select(\".tombstone-container .temp\")]\n",
    "descs = [d[\"title\"] for d in seven_day.select(\".tombstone-container img\")]\n",
    "\n",
    "print(short_descs)\n",
    "print(temps)\n",
    "print(descs)"
   ]
  },
  {
   "cell_type": "code",
   "execution_count": 25,
   "metadata": {},
   "outputs": [
    {
     "data": {
      "text/html": [
       "<div>\n",
       "<style scoped>\n",
       "    .dataframe tbody tr th:only-of-type {\n",
       "        vertical-align: middle;\n",
       "    }\n",
       "\n",
       "    .dataframe tbody tr th {\n",
       "        vertical-align: top;\n",
       "    }\n",
       "\n",
       "    .dataframe thead th {\n",
       "        text-align: right;\n",
       "    }\n",
       "</style>\n",
       "<table border=\"1\" class=\"dataframe\">\n",
       "  <thead>\n",
       "    <tr style=\"text-align: right;\">\n",
       "      <th></th>\n",
       "      <th>period</th>\n",
       "      <th>short_desc</th>\n",
       "      <th>temp</th>\n",
       "      <th>description</th>\n",
       "    </tr>\n",
       "  </thead>\n",
       "  <tbody>\n",
       "    <tr>\n",
       "      <th>0</th>\n",
       "      <td>Today</td>\n",
       "      <td>Partly Sunny</td>\n",
       "      <td>High: 58 °F</td>\n",
       "      <td>Today: Partly sunny, with a high near 58. Nort...</td>\n",
       "    </tr>\n",
       "    <tr>\n",
       "      <th>1</th>\n",
       "      <td>Tonight</td>\n",
       "      <td>Slight ChanceRain</td>\n",
       "      <td>Low: 52 °F</td>\n",
       "      <td>Tonight: A 20 percent chance of rain.  Mostly ...</td>\n",
       "    </tr>\n",
       "    <tr>\n",
       "      <th>2</th>\n",
       "      <td>Friday</td>\n",
       "      <td>Partly Sunny</td>\n",
       "      <td>High: 58 °F</td>\n",
       "      <td>Friday: Partly sunny, with a high near 58. Nor...</td>\n",
       "    </tr>\n",
       "    <tr>\n",
       "      <th>3</th>\n",
       "      <td>FridayNight</td>\n",
       "      <td>Partly Cloudy</td>\n",
       "      <td>Low: 48 °F</td>\n",
       "      <td>Friday Night: Partly cloudy, with a low around...</td>\n",
       "    </tr>\n",
       "    <tr>\n",
       "      <th>4</th>\n",
       "      <td>Saturday</td>\n",
       "      <td>Mostly Sunny</td>\n",
       "      <td>High: 58 °F</td>\n",
       "      <td>Saturday: Mostly sunny, with a high near 58. L...</td>\n",
       "    </tr>\n",
       "    <tr>\n",
       "      <th>5</th>\n",
       "      <td>SaturdayNight</td>\n",
       "      <td>Mostly Cloudy</td>\n",
       "      <td>Low: 50 °F</td>\n",
       "      <td>Saturday Night: Mostly cloudy, with a low arou...</td>\n",
       "    </tr>\n",
       "    <tr>\n",
       "      <th>6</th>\n",
       "      <td>Sunday</td>\n",
       "      <td>Slight ChanceRain</td>\n",
       "      <td>High: 59 °F</td>\n",
       "      <td>Sunday: A 20 percent chance of rain.  Partly s...</td>\n",
       "    </tr>\n",
       "    <tr>\n",
       "      <th>7</th>\n",
       "      <td>SundayNight</td>\n",
       "      <td>Slight ChanceRain</td>\n",
       "      <td>Low: 51 °F</td>\n",
       "      <td>Sunday Night: A slight chance of rain.  Mostly...</td>\n",
       "    </tr>\n",
       "    <tr>\n",
       "      <th>8</th>\n",
       "      <td>Monday</td>\n",
       "      <td>Chance Rain</td>\n",
       "      <td>High: 58 °F</td>\n",
       "      <td>Monday: A chance of rain.  Mostly cloudy, with...</td>\n",
       "    </tr>\n",
       "  </tbody>\n",
       "</table>\n",
       "</div>"
      ],
      "text/plain": [
       "          period         short_desc         temp  \\\n",
       "0          Today       Partly Sunny  High: 58 °F   \n",
       "1        Tonight  Slight ChanceRain   Low: 52 °F   \n",
       "2         Friday       Partly Sunny  High: 58 °F   \n",
       "3    FridayNight      Partly Cloudy   Low: 48 °F   \n",
       "4       Saturday       Mostly Sunny  High: 58 °F   \n",
       "5  SaturdayNight      Mostly Cloudy   Low: 50 °F   \n",
       "6         Sunday  Slight ChanceRain  High: 59 °F   \n",
       "7    SundayNight  Slight ChanceRain   Low: 51 °F   \n",
       "8         Monday        Chance Rain  High: 58 °F   \n",
       "\n",
       "                                         description  \n",
       "0  Today: Partly sunny, with a high near 58. Nort...  \n",
       "1  Tonight: A 20 percent chance of rain.  Mostly ...  \n",
       "2  Friday: Partly sunny, with a high near 58. Nor...  \n",
       "3  Friday Night: Partly cloudy, with a low around...  \n",
       "4  Saturday: Mostly sunny, with a high near 58. L...  \n",
       "5  Saturday Night: Mostly cloudy, with a low arou...  \n",
       "6  Sunday: A 20 percent chance of rain.  Partly s...  \n",
       "7  Sunday Night: A slight chance of rain.  Mostly...  \n",
       "8  Monday: A chance of rain.  Mostly cloudy, with...  "
      ]
     },
     "execution_count": 25,
     "metadata": {},
     "output_type": "execute_result"
    }
   ],
   "source": [
    "## Combining our data into a Pandas Dataframe\n",
    "import pandas as pd\n",
    "weather = pd.DataFrame({\n",
    "        \"period\": periods, \n",
    "        \"short_desc\": short_descs, \n",
    "        \"temp\": temps, \n",
    "        \"description\":descs\n",
    "    })\n",
    "weather"
   ]
  },
  {
   "cell_type": "code",
   "execution_count": 21,
   "metadata": {},
   "outputs": [
    {
     "data": {
      "text/plain": [
       "0    58\n",
       "1    52\n",
       "2    58\n",
       "3    48\n",
       "4    58\n",
       "5    50\n",
       "6    59\n",
       "7    51\n",
       "8    58\n",
       "Name: temp_num, dtype: object"
      ]
     },
     "execution_count": 21,
     "metadata": {},
     "output_type": "execute_result"
    }
   ],
   "source": [
    "## Use a regular expression and the Series.str.extract method to pull out the numeric temperature values:\n",
    "temp_nums = weather[\"temp\"].str.extract(\"(?P<temp_num>\\d+)\", expand=False)\n",
    "weather[\"temp_num\"] = temp_nums.astype('int')\n",
    "temp_nums"
   ]
  },
  {
   "cell_type": "code",
   "execution_count": 22,
   "metadata": {},
   "outputs": [
    {
     "data": {
      "text/plain": [
       "54.666666666666664"
      ]
     },
     "execution_count": 22,
     "metadata": {},
     "output_type": "execute_result"
    }
   ],
   "source": [
    "weather[\"temp_num\"].mean()"
   ]
  },
  {
   "cell_type": "code",
   "execution_count": 23,
   "metadata": {},
   "outputs": [
    {
     "data": {
      "text/plain": [
       "0    False\n",
       "1     True\n",
       "2    False\n",
       "3     True\n",
       "4    False\n",
       "5     True\n",
       "6    False\n",
       "7     True\n",
       "8    False\n",
       "Name: temp, dtype: bool"
      ]
     },
     "execution_count": 23,
     "metadata": {},
     "output_type": "execute_result"
    }
   ],
   "source": [
    "is_night = weather[\"temp\"].str.contains(\"Low\")\n",
    "weather[\"is_night\"] = is_night\n",
    "is_night"
   ]
  },
  {
   "cell_type": "code",
   "execution_count": 24,
   "metadata": {},
   "outputs": [
    {
     "data": {
      "text/html": [
       "<div>\n",
       "<style scoped>\n",
       "    .dataframe tbody tr th:only-of-type {\n",
       "        vertical-align: middle;\n",
       "    }\n",
       "\n",
       "    .dataframe tbody tr th {\n",
       "        vertical-align: top;\n",
       "    }\n",
       "\n",
       "    .dataframe thead th {\n",
       "        text-align: right;\n",
       "    }\n",
       "</style>\n",
       "<table border=\"1\" class=\"dataframe\">\n",
       "  <thead>\n",
       "    <tr style=\"text-align: right;\">\n",
       "      <th></th>\n",
       "      <th>period</th>\n",
       "      <th>short_desc</th>\n",
       "      <th>temp</th>\n",
       "      <th>desc</th>\n",
       "      <th>temp_num</th>\n",
       "      <th>is_night</th>\n",
       "    </tr>\n",
       "  </thead>\n",
       "  <tbody>\n",
       "    <tr>\n",
       "      <th>1</th>\n",
       "      <td>Tonight</td>\n",
       "      <td>Slight ChanceRain</td>\n",
       "      <td>Low: 52 °F</td>\n",
       "      <td>Tonight: A 20 percent chance of rain.  Mostly ...</td>\n",
       "      <td>52</td>\n",
       "      <td>True</td>\n",
       "    </tr>\n",
       "    <tr>\n",
       "      <th>3</th>\n",
       "      <td>FridayNight</td>\n",
       "      <td>Partly Cloudy</td>\n",
       "      <td>Low: 48 °F</td>\n",
       "      <td>Friday Night: Partly cloudy, with a low around...</td>\n",
       "      <td>48</td>\n",
       "      <td>True</td>\n",
       "    </tr>\n",
       "    <tr>\n",
       "      <th>5</th>\n",
       "      <td>SaturdayNight</td>\n",
       "      <td>Mostly Cloudy</td>\n",
       "      <td>Low: 50 °F</td>\n",
       "      <td>Saturday Night: Mostly cloudy, with a low arou...</td>\n",
       "      <td>50</td>\n",
       "      <td>True</td>\n",
       "    </tr>\n",
       "    <tr>\n",
       "      <th>7</th>\n",
       "      <td>SundayNight</td>\n",
       "      <td>Slight ChanceRain</td>\n",
       "      <td>Low: 51 °F</td>\n",
       "      <td>Sunday Night: A slight chance of rain.  Mostly...</td>\n",
       "      <td>51</td>\n",
       "      <td>True</td>\n",
       "    </tr>\n",
       "  </tbody>\n",
       "</table>\n",
       "</div>"
      ],
      "text/plain": [
       "          period         short_desc        temp  \\\n",
       "1        Tonight  Slight ChanceRain  Low: 52 °F   \n",
       "3    FridayNight      Partly Cloudy  Low: 48 °F   \n",
       "5  SaturdayNight      Mostly Cloudy  Low: 50 °F   \n",
       "7    SundayNight  Slight ChanceRain  Low: 51 °F   \n",
       "\n",
       "                                                desc  temp_num  is_night  \n",
       "1  Tonight: A 20 percent chance of rain.  Mostly ...        52      True  \n",
       "3  Friday Night: Partly cloudy, with a low around...        48      True  \n",
       "5  Saturday Night: Mostly cloudy, with a low arou...        50      True  \n",
       "7  Sunday Night: A slight chance of rain.  Mostly...        51      True  "
      ]
     },
     "execution_count": 24,
     "metadata": {},
     "output_type": "execute_result"
    }
   ],
   "source": [
    "weather[is_night]"
   ]
  }
 ],
 "metadata": {
  "kernelspec": {
   "display_name": "Python 3",
   "language": "python",
   "name": "python3"
  },
  "language_info": {
   "codemirror_mode": {
    "name": "ipython",
    "version": 3
   },
   "file_extension": ".py",
   "mimetype": "text/x-python",
   "name": "python",
   "nbconvert_exporter": "python",
   "pygments_lexer": "ipython3",
   "version": "3.6.7"
  }
 },
 "nbformat": 4,
 "nbformat_minor": 2
}
